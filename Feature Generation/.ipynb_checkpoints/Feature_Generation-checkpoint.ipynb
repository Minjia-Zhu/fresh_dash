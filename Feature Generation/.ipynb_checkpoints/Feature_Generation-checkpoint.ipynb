{
 "cells": [
  {
   "cell_type": "code",
   "execution_count": 1,
   "metadata": {},
   "outputs": [],
   "source": [
    "import pandas as pd\n",
    "import numpy as np\n",
    "import seaborn as sns\n",
    "import matplotlib.pyplot as plt\n",
    "import base64\n",
    "import string\n",
    "import re\n",
    "import os\n",
    "import csv\n",
    "import sys\n",
    "from collections import Counter\n",
    "from nltk.corpus import stopwords\n",
    "from sklearn.model_selection import train_test_split\n",
    "csv.field_size_limit(sys.maxsize)\n",
    "os.chdir('../Data/Seattle/')"
   ]
  },
  {
   "cell_type": "code",
   "execution_count": 2,
   "metadata": {},
   "outputs": [],
   "source": [
    "df = pd.read_csv('individual_review_inspection_merged.csv', sep=None,engine='python')"
   ]
  },
  {
   "cell_type": "code",
   "execution_count": 274,
   "metadata": {},
   "outputs": [],
   "source": [
    "# df = df_output.sample(frac=0.3)\n",
    "# Create a prediction label with threshold of 40\n",
    "df['label'] = np.where(df['inspection_penalty_score']>=50, 1, 0)\n",
    "df2 = df[['content','label']]"
   ]
  },
  {
   "cell_type": "code",
   "execution_count": 275,
   "metadata": {},
   "outputs": [
    {
     "data": {
      "image/png": "[encoded data removed]",
      "text/plain": [
       "<matplotlib.figure.Figure at 0x1a378066d8>"
      ]
     },
     "metadata": {},
     "output_type": "display_data"
    }
   ],
   "source": [
    "train, test = train_test_split(df2, test_size=0, random_state=42)\n",
    "fig = plt.figure(figsize=(8,4))\n",
    "sns.barplot(x = train['label'].unique(), y=train['label'].value_counts())\n",
    "plt.show()"
   ]
  },
  {
   "cell_type": "code",
   "execution_count": 276,
   "metadata": {},
   "outputs": [],
   "source": [
    "hy_text = [text for text in train[train['label'] == 1]['content']]\n",
    "nhy_text = [text for text in train[train['label'] == 0]['content']]"
   ]
  },
  {
   "cell_type": "code",
   "execution_count": 277,
   "metadata": {},
   "outputs": [
    {
     "name": "stdout",
     "output_type": "stream",
     "text": [
      "5699\n",
      "156611\n"
     ]
    }
   ],
   "source": [
    "print(len(hy_text))\n",
    "print(len(nhy_text))"
   ]
  },
  {
   "cell_type": "code",
   "execution_count": 278,
   "metadata": {},
   "outputs": [],
   "source": [
    "import spacy\n",
    "nlp = spacy.load('en')\n",
    "# https://stackoverflow.com/questions/40288323/what-do-spacys-part-of-speech-and-dependency-tags-mean\n",
    "# https://spacy.io/api/annotation#pos-tagging\n",
    "noisy_pos_tags = ['SPACE','ADP','AUX','CONJ','DET','INTJ','PART','PUNCT','PRON','SCONJ','SYM']\n",
    "min_token_length = 2"
   ]
  },
  {
   "cell_type": "code",
   "execution_count": 299,
   "metadata": {},
   "outputs": [],
   "source": [
    "def isNoise(token):\n",
    "    '''\n",
    "    Check if the token is a noise or not\n",
    "    '''\n",
    "    is_noise = False\n",
    "\n",
    "    if token.pos_ in noisy_pos_tags: # check for pre-defineed noisy tag\n",
    "        is_noise = True\n",
    "    elif token.is_stop == True: # check for stop words\n",
    "        is_noise = True\n",
    "    elif token.like_url == True:\n",
    "        is_noise = True\n",
    "    elif token.like_num == True:\n",
    "        is_noise = True\n",
    "    elif len(str(token)) <= min_token_length:\n",
    "        is_noise = True\n",
    "    return is_noise\n",
    "\n",
    "def cleanup_text(reviews, logging=False):\n",
    "    cleaned = []\n",
    "    bigrams = []\n",
    "    n = 1\n",
    "    for review in reviews:\n",
    "        review = nlp(review)\n",
    "        if n % 10 == 0 and logging:\n",
    "            print(\"Processed %d out of %d reviews.\" % (n, len(reviews)))\n",
    "        n += 1\n",
    "        tokens = [token.lemma_.lower().strip() for token in review if not isNoise(token)]\n",
    "        tokens = ' '.join(tokens)\n",
    "        cleaned.append(tokens)\n",
    "        \n",
    "#         for token in review:\n",
    "#             bigram = []\n",
    "#             bigram.append(token.text)\n",
    "#             if token.i < len(review):\n",
    "#                 bigram.append(str(review[token.i + 1]))\n",
    "#                 bigram = ' '.join(bigram)\n",
    "#                 print(bigram)\n",
    "#             bigrams.append(bigram)   \n",
    "    return {'clean':pd.Series(cleaned),'bigram':pd.Series(bigrams)}"
   ]
  },
  {
   "cell_type": "code",
   "execution_count": 301,
   "metadata": {},
   "outputs": [],
   "source": [
    "l = ['thank', 'local', 'friend', 'recommend', 'restaurant', 'dinner', 'weary', 'traveller', 'little', 'hesitant', 'leave', 'hotel', 'coastal', 'kitchen', 'worth', 'pecan', 'crust', 'salmon', 'avocado', 'butter', 'absolutely', 'delicious', 'coastal', 'kitchen', 'provide', 'relaxing', 'lay', 'atmosphere', 'friendly', 'accomodat', 'service', 'delicious', 'food']"
   ]
  },
  {
   "cell_type": "code",
   "execution_count": 304,
   "metadata": {},
   "outputs": [],
   "source": [
    "def find_ngrams(input_list, n):\n",
    "  return zip(*[input_list[i:] for i in range(n)])"
   ]
  },
  {
   "cell_type": "code",
   "execution_count": 312,
   "metadata": {},
   "outputs": [
    {
     "data": {
      "text/plain": [
       "['thank',\n",
       " 'local',\n",
       " 'friend',\n",
       " 'recommend',\n",
       " 'restaurant',\n",
       " 'dinner',\n",
       " 'weary',\n",
       " 'traveller',\n",
       " 'little',\n",
       " 'hesitant',\n",
       " 'leave',\n",
       " 'hotel',\n",
       " 'coastal',\n",
       " 'kitchen',\n",
       " 'worth',\n",
       " 'pecan',\n",
       " 'crust',\n",
       " 'salmon',\n",
       " 'avocado',\n",
       " 'butter',\n",
       " 'absolutely',\n",
       " 'delicious',\n",
       " 'coastal',\n",
       " 'kitchen',\n",
       " 'provide',\n",
       " 'relaxing',\n",
       " 'lay',\n",
       " 'atmosphere',\n",
       " 'friendly',\n",
       " 'accomodat',\n",
       " 'service',\n",
       " 'delicious',\n",
       " 'food']"
      ]
     },
     "execution_count": 312,
     "metadata": {},
     "output_type": "execute_result"
    }
   ],
   "source": [
    "l[0:]"
   ]
  },
  {
   "cell_type": "code",
   "execution_count": 300,
   "metadata": {},
   "outputs": [
    {
     "name": "stdout",
     "output_type": "stream",
     "text": [
      "['place', 'great', 'ambiance', 'food', 'service', 'good', 'get', 'sushi', 'fish', 'fresh', 'roll', 'big', 'cheap', 'price', 'expect', 'uni', 'great', 'special', 'flaming', 'tuna', 'roll', 'think', 'spicy', 'will', 'soon', 'hopefully']\n",
      "['think', 'place', 'potential', 'not', '160;tri', 'chicken', 'skewer', 'plate', 'shrimp', 'good', 'flavor', 'cook', 'think', 'pretty', 'little', 'season', 'even', 'complimentary', 'popcorn', 'way', 'salty', 'kernel', 'season', 'tasty', 'make', 'hard', 'eat', 'time', '160;was', 'expect', 'quick', 'service', 'kind', 'place', 'find', 'slow', 'not', 'busy']\n",
      "['love', 'tou', 'nyu', 'especially', 'hot', 'sauce', 'especially', 'cold', 'rainy', 'day']\n",
      "['impression', 'love', 'atmosphere', 'place', 'get', 'seat', 'outside', 'narrow', 'alleyway', 'restaurant', 'building', 'feel', 'cozy', 'open', '-pron-', 'server', 'great', 'very', 'attentive', 'hover', 'table', 'forget', 'tell', 'special', 'biggie', 'food', 'creative', 'tasty', 'go', 'theme', 'costa', 'rica', 'great', 'job', 'ceviche', 'look', 'forward', 'go', 'try', 'new', 'international', 'theme', '-pron-', 'cool', 'menu', 'dynamic', 'fish', 'regular', 'menu', 'good', 'taste', 'fresh', 'lightly', 'season', 'thing', 'disappointing', 'dessert', 'get', 'rum', 'orange', 'pound', 'cake', 'icecream', 'now', 'love', 'rum', 'not', 'pour', 'way', 'cover', 'flavor', 'food', 'not', 'cheap', 'not', 'outrageous', 'all', 'definitely', 'recommend', 'cute', 'restaurant', 'like', 'seafood', 'like', 'try', 'new', 'thing', 'menu']\n",
      "['be', 'look', 'night', 'stand', 'tuesday', 'afternoon', 'peso', 'place', 'wardrobe', 'lot', 'white', 'cap', 'probably', 'love', 'brunch']\n",
      "['not', 'believe', 'review', 'fly', 'fish', 'locate', 'first', 'avenue', 'belltown', '160;i', 'din', 'time', 'year', 'phenomenal', 'meal', 'cocktail', 'service', 'assume', 'review', '160;fly', 'fish', 'old', 'friend', 'old', 'friend', 'get', 'new', 'look', 'great', '160;hooray', 'choice', 'south', 'lake', 'union', '160;my', 'lunch', 'week', 'fantastic', 'sun', 'stream', 'huge', 'glass', 'window', 'service', 'impeccable', '160;my', 'friend', 'order', 'kobe', 'burger', 'covet', 'dish', 'entire', 'time', '160;not', 'dish', 'bad', 'tasty', 'vietnamese', 'pork', 'bowl', 'rice', 'noodle', 'bean', 'sprout', 'cilantro', 'lettuce', '160;it', 'reminiscent', 'favorite', 'dish', 'noodle', 'ranch', 'mekong', 'grill', 'pork', 'instead', 'chicken', '160;my', 'friend', 'enjoy', 'risotto', 'hear', 'happy', 'hour', 'good', 'friend', 'live', 'slu', 'option', 'work', 'drink']\n",
      "['place', 'choice', 'quick', 'chinese', 'snack', 'order', 'congee', 'liver', 'year', 'old', 'egg', 'and/or', 'fish', 'congee', 'style', 'cook', 'rice', 'long', 'time', 'basically', 'disappear', '160;(not', 'good', 'leftover', '160;my', 'friend', 'order', 'wonton', 'noodle', 'soup', 'complain', 'broth', 'salty', 'overload', 'msg', '-pron-', 'bbq', 'bad', 'tell', '160;some', 'chinese', 'restaurant', 'buy', 'bbq', 'place', 'reheat', 'sell', 'place', 'yumm', '160;there', 'tofu', 'dish', 'love', 'forget', 'dish', 'will', 'update', 'later', '160;the', 'tofu', 'japanese', 'style', 'round', 'soft', 'top', 'enokitake', 'mushroom', 'slice', 'green', 'bean', 'bell', 'pepper', 'color', \"160;i've\", 'restaurant', 'place', 'make', 'good', 'once', 'forget', 'be', 'international', 'district', 'bring', 'cash']\n",
      "['get', 'korean', 'food', 'shin', 'anything', 'kimchi', 'instant', 'win', 'book', 'general', 'rule', 'reason', 'great', 'even', 'portion', 'downsize', 'meal', 'just', 'sure', 'come', 'busy', 'hour', 'school', 'day', 'know', 'counter', 'intuitive', 'ensure', 'food', 'be', 'eat', 'not', 'sit', 'long', 'preprepp', 'hour', 'hour', 'amirite']\n",
      "['rocking', 'wok', 'delectable', 'destination', 'love', 'menu', '160;where', 'rondevous', 'great', 'plate', 'taiwanese', 'food', 'good', 'wonton', 'pork', 'dumpl', 'soup', 'chock', 'garlic', 'love', 'good', 'love', 'delightful', 'spicy', 'green', 'bean', 'check', 'appetizer', 'try', 'cold', 'jelly', 'fish', 'pickle', 'baby', 'bamboo', 'shoot', 'layer', 'scallion', 'pancake', 'stinky', 'tofu', 'adventurous', 'step', 'box', 'try', 'salt', 'pepper', 'squid', 'salt', 'pepper', 'pork', 'chop', 'smoke', 'tea', 'duck', 'love', 'honey', 'dew', 'beef', 'place', 'dive', 'sit', 'residentual', 'street', 'middle', 'wallingford', 'decor', 'what', 'decor', 'eat', 'decor', 'but', 'rocking', 'wok', 'serve', 'outstanding', 'food']\n",
      "Processed 10 out of 99 reviews.\n",
      "['love', 'vietnamese', 'deli', 'honestly', 'food', 'great', 'quality', 'pretty', 'restaurant', 'fancy', 'garnishing', 'service', 'cheap', 'price', 'banh', 'thit', 'nuong', 'grill', 'pork', 'banh', 'thit', 'ngoui', 'cold', 'cut', 'pork', 'banh', 'fatty', 'pork', 'rine', 'good', 'sandwich', 'far', 'eat', 'food', 'single', 'meal', 'day', 'usually', 'church', 'street']\n",
      "['wander', 'new', 'neighborhood', 'evening', 'try', 'find', 'uncrowded', 'restaurant', 'celebrate', 'new', 'year', 'eve', 'single', 'chick', 'stumble', '160;i', 'pleased', 'selection', 'here!9:15pm', 'manage', 'customer', 'serve', 'evening', 'courteous', 'non', 'rush', 'not', 'people', 'keep', 'close', 'earlier', '160;cozi', 'bar', 'originally', 'plan', 'place', 'order', 'comfortable', 'atmosphere', 'decide', 'stay', '160;nye', 'reveler', 'fill', 'place', 'annoying', 'woo', 'hoo', 'type', 'wish', 'boil', 'soup', 'spill', '160;just', 'quaint', 'mature', 'crowd', 'wander', 'outside--', 'appreciate', '160;plus', 'sit', 'bar', 'entertainment', 'watch', 'open', 'kitchen', 'cook', 'work', 'sweaty', 'magic', 'plus', 'television', 'tune', 'minute', 'sonics', 'game', 'not', 'see', 'week', 'not', 'surprisingly', 'comfortable', 'bar', 'seat', 'hooked', 'food', 'bit', 'greasy', 'like', 'star', 'delicious', '160;my', 'plain', 'jane', 'taste', 'bud', 'order', 'amp', 'fully', 'enjoy', 'starter', 'bite', 'sized', 'spring', 'roll', 'sweet', 'amp', 'sour', 'sauce', 'accompany', 'tasty', 'tofu', 'pad', 'thai', 'surprise', 'bit', 'different', 'have', 'delicious', '160;more', 'vegetable', 'speckle', 'thing', 'shave', 'carrot', 'steam', 'broccoli', 'like', 'thing', 'normally', 'not', 'touching', 'deeply', 'enhance', 'flavor', 'sauce', 'soak', '160;thank', 'feel', 'eat', 'healthy', 'meal!portion', 'main', 'meal', 'large', 'take', 'half', 'home', 'baggie--', 'probably', 'warm', 'meal', '160;wash', 'pyramid', 'hef', 'appetizer', 'beer', 'dinner', 'include', 'tax', 'amp', 'tip', 'come', '160;i', 'pleasantly', 'surprised', 'impromptu', 'decision', 'eat', 'importantly', 'wait', 'return', 'soon']\n",
      "['fact', 'wait', 'seat', 'strong', 'testament', 'popularity', 'deliciousness', 'restaurant', '160;this', 'good', 'indian', 'food', 'area', 'definitely', 'good', 'service', 'town']\n",
      "['place', 'practically', 'lunchtime', 'monday', 'not', 'deter', 'try', 'friend', 'recommendation', 'decide', 'raman', 'try', 'house', 'raman', 'bowl', 'big', 'bathe', 'cat', 'split', 'friend', 'will', 'cost', 'seaweed', 'corn', 'tender', 'slice', 'chicken', 'half', 'hard', 'boil', 'egg', 'noodle', 'perfect', 'texture', 'firm', 'right', 'chewiness)', 'not', 'chopstick', 'when', 'seattle', 'get', 'cold', 'be', 'belltown', 'place', 'menu', 'offer', 'japanese', 'street', 'food', 'translate', 'lot', 'lot', 'skewer', 'chicken', 'scallop', 'shrimp', 'vegetable', 'page', 'menu', 'dedicated', 'small', 'bite', '3/skewer']\n",
      "['one', 'good', 'taco', 'truck', 'burrito', 'have', 'horchata', 'good', 'good', 'carnita', 'flavorful', 'burrito', 'monster', 'huge', 'home', 'depot', 'employee', 'sure', 'lucky', 'right', '160;i', 'hard', 'time', 'decide', 'perfect', 'rating', 'feel', 'need', 'menu', 'try', '160;great', 'menu', 'mulita', 'gordito', 'taco', 'etc', '160;cannot', 'wait', 'come']\n",
      "['meeeeeeh', 'thought', 'check', 'compare', 'blue', 'sushiland', 'come', 'weekday', 'slow', 'staff', 'friendly', 'order', 'oshinko', 'roll', 'clear', 'chef', 'training', 'take', 'forever', 'little', 'hosomaki', 'roll', 'rice', 'taste', 'pound', 'submission', 'albacore', 'nigiri', 'pretty', 'good', 'masago', 'gunkan', 'also', 'chef', 'not', 'stop', 'talk', 'kind', 'annoying', 'free', 'green', 'tea', 'pretty', 'sweet', 'honestly', 'want', 'kaiten', 'sushi', 'fix', 'will', 'sushiland']\n",
      "['vouch', 'sushi', 'sashimi', 'good', 'and', 'good', 'place', 'what', 'come', 'lychee', 'sake', 'martini', 'hirame', 'usuzukuri']\n"
     ]
    },
    {
     "name": "stdout",
     "output_type": "stream",
     "text": [
      "['want', 'visit', 'market', 'hear', 'song', 'blue', 'scholars', 'when', 'get', 'definitely', 'old', 'style', 'market', 'typical', 'warehouse', 'market', 'good', 'old', 'style', 'price', 'affordable', 'filipino', 'good', 'available', 'great', 'area', 'sell', 'food', 'item', 'decent', 'price', 'california', 'see', 'filipino', 'base', 'market', 'awesome', 'enjoy', 'time', 'buying', 'good', 'hopefully', 'come', 'parking', 'bad']\n",
      "['delicious', 'friendly', 'cheap', 'vietnamese', 'deli', 'seattle', 'serve', 'essential', 'banh', 'che', 'goi', 'cuon', 'etc', 'love', 'place', 'thing', 'set', 'aside', 'vietnamese', 'dessert', 'section', 'large', 'place', 'like', 'banh', 'pate', 'use', 'sandwich', 'phenomenal']\n",
      "['not', 'confuse', 'siagon', 'vietnam', 'deli', 'corner', 'jackson', '12th', 'spot', 'bahn', 'actually', 'think', 'bit', 'problem', 'frank', 'dollar', 'sandwich', 'prepare', 'fresh', 'toasted', 'bread', 'fantastic', 'ingredient', 'have', 'complaint', 'shop', 'vicinity', 'trust', 'shop', 'little', 'bit', 'clean', 'orderly', 'worker', 'bit', 'surly', 'have', 'spot', 'notice', 'poor', 'glove', 'etiquette', 'sanitation', 'issue', 'aside', 'packaging', 'technique', 'food', 'leave', 'counter', 'not', 'know', 'regulation', 'mouth', 'shut', 'four', 'star', 'quality', 'taste', 'ingredient', 'freshness', 'choice', 'bread', 'ease', 'location', 'wallet', 'friendly', 'not', 'sit', 'restaurant', 'stuff', 'leave', 'and', 'happy']\n",
      "Processed 20 out of 99 reviews.\n",
      "['have', 'go', 'move', 'state', 'time', 'year', 'food', 'american', 'food', 'cook', 'japanese', 'style', 'dish', 'pretty', 'good', 'not', 'miss', 'fairly', 'consistent', 'year', 'go', 'slightly', 'downwards', 'time', 'pricing', 'completely', 'fair', 'get', 'close', 'work', 'home', 'probably', 'week', 'enjoy', 'kind', 'food', 'disclaimer', 'claim', 'expert', 'type', 'food', 'hint', 'try', 'lunch', 'special', 'choice', 'great', 'deal', 'service', 'great', 'nice', 'little', 'spot', 'hang', 'lunch', 'late', 'evening', 'good', 'drink', 'dish', 'try', 'spaghetti', 'different', 'italian', 'say', 'japanese', 'style', 'cook', 'food', 'curry', 'fry', 'chicken', 'hamburger', 'steak', 'fry', 'rice']\n",
      "['fast', 'food', 'close', 'restaurant', 'star', 'cheap', 'good', 'mexican', 'food', 'nachos', 'especially', 'good', 'not', 'eat', 'prefer', 'food', 'eat', 'cal', 'anderson', 'street', 'seating', 'area', 'not', 'comfortable', 'clean', 'kitchen', 'visible', 'appear', 'clean', 'will', 'good', 'quick', 'food', 'soon']\n",
      "['sleezy', 'old', 'school', '160;seattle', 'hangout', '160;wear', 'glove', 'finger', 'cut', 'severely', 'wrinkle', 'flannel', 'juke', 'box', 'pool', 'table', 'cool', 'bar', 'tender', 'awesome', 'sign', 'what', 'wrong']\n",
      "['stroll', 'ave', 'day', 'happen', 'pass', 'place', 'now', 'normally', 'not', 'dare', 'face', 'place', 'star', 'people', 'retribution', 'seriously', 'strive', 'rate', 'fairly', 'accurately', 'but', 'sign', 'right', 'entrance', 'ave', 'place', 'catch', 'eye', 'take', 'picture', 'prove', 'unbelievable', 'sound', 'make', 'will', 'type', 'verbatim', 'banquet', 'group', 'discountsdepend', 'need', 'create', 'banquet', 'decide', 'want', 'spend', 'chef', 'prepare', 'special', 'menu', 'average', 'cost', 'generally', 'person', 'minmum', 'banquet', 'size', 'person', 'case', 'problem', 'not', 'obvious', 'will', 'spell', 'how', 'world', 'suppose', 'discount', 'how', 'meal', 'jump', 'dollar', 'person', 'double', 'price', 'equal', 'discount', 'think', 'restaurant', 'goal', 'price', 'competitive', 'low', 'humanly', 'possible', 'order', 'attract', 'broke', 'college', 'student', 'do', 'not', 'idea', 'overprice', 'banquet', 'run', 'point', 'restaurant', 'existence', 'restaurant', 'food', 'terrible', 'possibly', 'trust', 'proper', 'meal', 'let', 'blow', 'banquet', 'restaurant', 'ask', 'want', 'spend', 'prepare', 'specify', 'tell', 'spend', 'actually', 'not', 'freedom', 'think', 'authentic', 'chinese', 'food', 'international', 'district', 'good', 'cheap', 'why', 'come', 'ave', 'place', 'look', 'decent', 'chinese', 'food', 'why', 'arbitrarily', 'restrict', 'minimum', 'banquet', 'size', 'people', 'hardly', 'draw', 'customer', 'place', 'need', 'feed', 'people', 'not', 'choose', 'there', 'bunch', 'pizza', 'place', 'ave', 'open', 'late', 'deliver', 'easily', 'feed', 'people', 'mere', 'fraction', 'price', 'jesus', 'time', 'people', 'remember', 'time', 'spend', 'pizza', 'people?so', 'just', 'think', 'place', 'not', 'bad', 'decide', 'advertise', 'ridiculous', 'deal', 'prove', 'wrong', 'what', 'joke', 'business', 'think', 'jack', 'box', 'nearby', 'bad', 'place', 'university', 'district', 'place', 'give', 'run', 'money', 'not', 'want', 'bad', 'place', 'personal', 'but', 'unacceptable', 'business', 'run', 'place', 'go', 'bankrupt', 'soon', 'not', 'think', 'value', 'lose']\n",
      "['definitely', 'omakase', 'dinner', '160;it', 'chef', 'choice', 'course', 'dinner', 'pay', 'little', 'world', '160;the', 'price', 'reasonable', 'quality', 'quanity', 'food', 'course', 'omakase', '160;you', 'need', 'hour', 'ahead', 'let', 'know', 'food', 'allergy', 'avoid', 'item', 'dinner', '160;my', 'absolute', 'favorite', 'thing', 'omakase', 'dinner', 'halibut', 'cheek', 'melt', 'mouth', 'mushroom', 'soup', 'deliver', 'individual', 'tea', 'kettle', '160;the', 'food', 'presentation', 'artsy', 'enhance', 'entire', 'experience', 'opinion', 'good', 'japanese', 'restaurant', 'town']\n",
      "['not', 'bad', 'little', 'hole', 'wall', 'lunch', 'grant', 'rush', 'go', 'yesterday', 'packed', 'space', 'not', 'big', 'line', 'door', 'but', 'crowd', 'service', 'fast', 'food', 'tasty', 'price', 'right', 'recommendation', 'minute', 'noon']\n",
      "['good', 'thai', 'have', 'find', 'seattle', 'good', 'seat', 'house', 'counter', 'stove', 'lot', 'fun', 'watch', 'whip', 'curry', 'stir', 'fry', 'mile', 'hour', 'not', 'try', 'come', 'people', 'tiny']\n",
      "['let', 'state', 'right', 'bat', 'star', 'apply', 'only', 'food', 'delicious', 'inexpensive', 'have', 'pho', 'town', 'joint', 'want', 'slurp', 'damn', 'good', 'soup', '160;yesterday', 'warm', 'day', 'try', 'lettuce', 'wrap', 'pleased', 'flavor', 'portion', 'size', 'stoke', 'get', 'bill', 'nice', 'take', 'home', 'half', 'eat', 'lunch', 'today', '4!!??)i', 'live', 'block', 'away', 'eat', 'time', 'guest', '160;each', 'time', 'service', 'suck', 'honestly', '160;it', 'experience', 'food', 'arrive', 'wait', 'staff', 'attentive', 'ask', 'refill', 'lemonade', 'seriously', 'time', 'need', 'have', 'start', 'eat', 'flag', 'server', 'irritate', 'order', 'soup', 'irritating', '160;forget', 'friendly', 'greeting', 'smile', 'conversation', '160;(heck', 'happy', 'eye', 'contact', 'order', 'thing', 'time', 'female', 'cashier', 'hurry', 'annoyed', '160;how', 'loyal', 'customer', 'appreciation', 'want', 'money', 'customer', 'say', 'come', 'hooked', 'bomb', 'broth', 'fresh', 'basil', 'sprout', 'chicken', 'mmmmmmmm', 'yum', '160;i', 'feel', 'elaine', 'seinfeld', 'episode', 'soup', 'nazi', 'treat', 'crap', 'not', 'care', 'just', 'give', 'soup']\n",
      "['friendly', 'staff', 'great', 'service', 'love', 'atmosphere', 'good', 'food', 'usually', 'lunch', 'special', 'worth', 'price', 'huge', 'portion']\n",
      "['anywhere', 'buy', 'huge', 'bag', 'frozen', 'xiao', 'long', 'bao', 'get', 'star', 'regardless', 'sell', 'admittedly', 'pick', 'nice', 'dark', 'black', 'shanxi', 'mature', 'vinegar', 'premium', 'japanese', 'sesame', 'oil', 'accord', 'owner', 'japanese', 'brand', 'superior', 'delicious', 'pork', 'dumpling', 'admittedly', 'restaurant', 'aspect', 'shop', 'not', 'fully', 'open', 'think', 'ping', 'dumpling', 'house', 'not', 'wait', 'open', 'will', 'serve', 'fresh', 'xiao', 'long', 'bao']\n",
      "Processed 30 out of 99 reviews.\n",
      "['burger', 'tasty', 'out', 'twice', 'price']\n",
      "['cozy', 'dark', 'enjoyable', 'spot', 'tuck', 'greenlake', 'go', 'saturday', 'recently', 'lovely', 'evening', 'both', 'bartender', 'fantastic', 'great', 'drink', 'couple', 'friendliness', 'humor', 'eat', 'small', 'bite', 'write', 'home', 'good', 'tasty', 'expect', 'happy', 'hour', 'partner', 'good', 'time', 'remark', 'fast', 'prompt', 'service', 'bussing', 'recommend', 'bring', 'date', 'romantic', 'time', 'saddle', 'bar', 'good', 'drink', 'convo', 'bartender', 'will']\n",
      "['worst', 'service', 'waitress', 'argue', 'minuet', 'charge', 'not', 'admit', 'untill', 'find', 'overcharge', 'menu', 'say', 'dish', 'include', 'meat', 'charge', 'price', 'meat', 'dish', 'point', 'dish', 'say', 'include', 'simply', 'say', 'problem', 'not', 'pay', 'leave', '160;are', 'fword', 'kid', '160;im', 'go', 'pay', 'tip', '160;did', 'deserve', 'absolutely', 'server', 'know', 'money.oh', 'food', 'liking', 'san', 'diego', 'very', 'high', 'expectation', 'mexican', 'go']\n",
      "['live', 'street', 'betty', '160;when', 'sister', 'town', 'spring', 'break', 'effort', 'hit', 'little', 'place', 'betty', 'be', 'pretty', 'sweet!the', 'service', 'lively', '160;we', 'reservation', 'yelp', 'course', 'seat', 'right', 'away', 'window', 'group', '160;i', 'love', 'sit', 'window', 'want', 'see', '160;it', 'pleasant', 'evening', 'three', 'betty', 'burger', 'substantially', 'large', 'expect', '160;my', 'sister', 'pan', 'roasted', 'chicken', 'generously', 'portion', 'travel', 'queen', 'anne', 'free', 'parking', 'queen', 'anne', 'ave', 'whooohooo']\n"
     ]
    },
    {
     "name": "stdout",
     "output_type": "stream",
     "text": [
      "['coins', 'myers', 'briggs', 'test', 'definitely', 'tell', 'volume', 'base', 'reaction', 'place', 'come', 'dad', 'lunch', 'kid', 'summer', 'help', 'work', 'kid', 'love', 'dad', 'have', 'burger', 'fry', 'place', 'go', 'two', 'bells', 'time', 'nearly', 'come', 'eat', 'place', 'wear', 'tie', 'look', 'sharp', 'standard', 'place', 'go', 'hill', 'culture', 'town', 'change', 'j.p.', 'patches', 'stan', 'borreson', 'rule', 'northwest', 'local', 'nostalgia', 'aside', 'help', 'sum', 'coin', 'great', 'place', 'not', 'bring', 'date', 'be', 'drunk', 'egg', 'benedict', 'wait', 'effect', 'coffee', 'kick', 'place', 'not', 'overrate', 'have', 'hear', 'food', 'place', 'great', 'haggard', 'joint', 'sober', 'date', 'dump', 'and/or', 'be', 'lazy', 'cook', 'experience', 'pleasant', 'pretend', 'be', 'mobster', 'lot', 'patience', 'launder', 'money', 'manager', 'nod', 'head', 'wrinkle', 'lip', 'brow', 'deniro', 'goodfellas', 'finish', 'meal', 'wipe', 'mouth', 'linen', 'napkin', 'way', 'nice', 'little', 'sleep', 'fish']\n",
      "['mmmm', 'tapa', 'have', 'handful', 'time', 'thing', 'sit', 'immediately', 'order', 'round', '160;\"cheap', 'date', 'table', 'delicious', '160;their', 'ceviche', 'cheese', 'plate', 'generally', 'good', 'not', 'pass', 'wild', 'mushroom', 'medley', 'actually', 'not', 'think', 'have', 'not', 'like', 'drink', 'good', 'overly', 'original', 'scream', 'deal', 'good', 'time', 'order', 'pitcher', 'sangria', 'muy', 'beuno', '-pron-', 'server', 'nice', 'knowledgeable', 'wait', 'order', 'tell', 'annoying', 'especially', 'tend', 'run', 'thing', 'attentive', 'ambiance', 'classy', 'casual', 'dressy', 'formal', 'large', 'group', 'fine', 'think', 'reservation', 'people', '160;park', 'street', 'parking', 'capital', 'hill', 'speak', 'overall', 'good', 'food', 'good', 'service', 'nice', 'atmosphere', 'turn', 'invite', 'tango']\n",
      "['perfectly', 'adequate', 'teriyaki', 'placei', 'work', 'fine', 'special', '160;it', 'near', 'teriyaki', 'place', '160;it', 'popular', 'pretty', 'standard']\n",
      "['thank', 'local', 'friend', 'recommend', 'restaurant', 'dinner', 'weary', 'traveller', 'little', 'hesitant', 'leave', 'hotel', 'coastal', 'kitchen', 'worth', 'pecan', 'crust', 'salmon', 'avocado', 'butter', 'absolutely', 'delicious', 'coastal', 'kitchen', 'provide', 'relaxing', 'lay', 'atmosphere', 'friendly', 'accomodat', 'service', 'delicious', 'food']\n",
      "['taste', 'india', 'indian', 'food', 'favorite', 'encounter', 'indian', 'food', 'late', '160;i', 'tell', 'friend', 'introduce', 'good', '160;i', 'try', 'indian', 'food', 'love', 'course', 'try', 'indian', 'restaurant', 'seattle', 'validate', 'good', 'claim', 'come', 'run', '160;mohammed', 'single', 'young', 'guy', 'start', 'go', 'remember', 'tell', 'go', 'india', 'married', 'kid', 'remember', 'time', 'come', 'big', 'smile', 'warm', 'drink', 'chai', 'tea', 'fill', 'glass', 'water', 'soon', 'finish', 'table', 'clear', 'wipe', 'love', 'assembly', 'line', 'process', 'waiter', 'team', 'people', 'treat', 'royalty', 'meal', 'mohammed', 'check', 'occasionally', 'sure', 'perfect', '160;this', 'super', 'busy', 'restaurant', 'work', 'quickly', 'efficiently', 'worth', 'wait', '160;delicious']\n",
      "['take', 'family', 'mother', 'day', 'brunch', 'go', 'open', 'south', 'lake', 'union', 'time', 'think', 'live', 'hype', 'mom', 'order', 'crab', 'cake', 'omelette', 'forget', 'baby', 'cousin', 'love', 'fruit', 'bar', 'keep', 'want', 'space', 'big', 'decoration', 'nice', 'overall', 'atmosphere', 'perfect', 'brunch', 'and', 'product', 'organic', 'sustainable', 'give', 'pleasantly', 'surprising', 'benefit', 'eat']\n",
      "Processed 40 out of 99 reviews.\n",
      "['discover', 'voila', 'accident', 'happy', 'accident!great', 'french', 'food', 'cozy', 'atmosphere', 'good', 'service', 'friendly', 'staff', 'voila', '160;i', 'weekly', '160;i', 'love', 'special', 'profiterole', 'amazing', 'great', 'chocolate', \"sauce)!i've\", 'main', 'menu', 'disappoint', 'love', 'voila']\n",
      "['thank', 'pregnant', 'friend', 'go', 'breakfast', 'sunday', 'week', 'tell', 'minute', 'seat', 'end', 'wait', 'hour', 'half', 'keep', 'seat', 'party', 'come', 'name', 'list', 'get', 'upset', 'stay', 'reputation', 'finally', 'seat', 'order', 'take', 'food', '90ish', 'minute', 'wait', 'seat', 'time', 'food', 'come', 'friend', 'baby', 'starve', 'meal', 'special', '-pron-', 'pancake', 'burn', 'really', 'bad', 'order', 'server', 'tell', 'probably', 'minute', 'long', 'line', 'order', 'wtf', 'burn', 'food', 'not', 'send', 'send', 'not', 'person', 'wait', 'new', 'food', 'push', 'order', 'rude', 'there', 'good', 'thing', 'restaurant', 'apple', 'raspberry', 'juice', 'good', \"160;they're\", 'organic', 'food', 'wish', 'like', 'place', 'terrible', 'experience', 'not']\n",
      "['update', '3/29/2008', 'lose', 'star', 'completely', 'inattentive', 'offer', 'water', 'brunch', 'breakfast', 'also', 'server', 'kind', 'surly', 'go', 'weekend', 'row', 'food', 'service', 'pretty', 'disappointing.****end', 'update', 'read', 'yelp', 'adorable', 'physical', 'therapist', 'mention', 'participate', 'open', 'mic', 'festivity', 'translate', 'giiiiiirrrrrl', 'betta', 'check', 'joint', 'out\".i', 'convince', 'good', 'girl', 'try', 'new', 'super', 'happy', 'decision', 'open', 'mic', 'night', 'tonight', 'lady', 'accompany', 'observe', 'surprisingly', 'good', 'seriously', 'performer', 'not', 'suck', 'yeesssss!the', 'tater', 'tot', 'cheese', 'delicious', 'hummus', 'plate', 'not', 'wrong', 'crowd', 'diverse', 'hipster', 'yuppie', 'range', 'lot', 'place', 'tend', 'frequent', 'pretty', 'crowd', 'range', 'normal', 'cool', 'compliment', 'hat', 'shoe', 'and', 'inform', 'roundabout', 'way', 'look', 'young', 'actually', 'yelp', 'real', 'life!the', 'server', 'friendly', 'decently', 'sized', 'place', 'free', 'music', 'pretty', 'time', 'not', 'suck', 'play', 'scissor', 'sisters', 'filthy', 'gorgeous', 'happy', 'point', 'girl).just', 'know', 'parking', 'bit', 'difficult', 'lot', 'parking', 'downtown', 'west', 'seattle', 'hill', 'rejoice', 'regular']\n",
      "['good', 'falafel', 'have', 'do', 'right', 'tasty', 'also', 'taste', 'mediterranean', 'sea', 'bass', 'excellent', 'go', 'group', 'friend', 'february', 'sunday', 'evening', 'seat', 'heated', 'enclose', 'patio', 'service', 'start', 'good', 'drop', 'place', 'fill', 'price', 'high', 'relative', 'portion', 'size', 'bibb', 'lettuce', 'head', 'cut', 'half', 'wedge', 'gorgonzola', 'blue', 'cheese', 'but', 'like', 'kind', 'thing', 'primarily', 'meat', 'base', 'french', 'country', 'cooking', 'probably', 'go', 'territory', 'back', 'bar', 'look', 'good', 'alternative', 'evening', 'think', 'serve', 'food', 'old', 'new', 'world', 'ambiance', 'vibe']\n",
      "['great', 'hot', 'pot', 'good', 'service']\n",
      "['-pron-', 'group', 'go', 'monday', 'love', 'echo', 'reviewer', 'say', 'food', 'good', 'atmostphere', 'great', 'there', 'sit', 'floor', '160;eat', 'hand', 'right', 'not', 'belly', 'dancing', 'monday', 'get', 'eat', 'royal', 'feast', 'say', 'plenty', 'food', 'big', 'dish', 'wait', 'rotate', 'plate', 'go', 'love', 'dish']\n",
      "['absolutely', 'favorite', 'thai', 'food', 'seattle', 'which', 'say', 'ton', 'half', 'pad', 'thai', 'noodle', 'wok', 'seattle', 'type', 'sure', 'little', 'extra', 'be', 'super', 'prompt', 'arrive', 'quote', 'pickup', 'time', 'food', 'ready', 'wait', 'sauce', 'preparation', 'good', 'have', 'try', 'boyfriend', 'usually', 'stick', 'regular', 'dish', 'pad', 'kee', 'mao', 'pad', 'see', 'fabulou', 'only', 'complaint', 'little', 'way', 'minute', 'drive', 'capitol', 'hill', 'location', 'totally', 'worth', 'time']\n",
      "['business', 'booming', 'live', 'walking', 'distance', '160;while', 'great', 'ocho', 'like', 'hang', 'hood', 'support', 'local', 'business', 'hard', 'time', 'get', 'door', '160;my', 'husband', 'secure', 'spot', 'early', 'recent', 'thursday', 'evening', 'food', 'atmosphere', 'amp', 'location', 'great', 'job)the', 'wait', 'table', 'amp', 'food', 'cool', 'kid', 'atmosphere', 'starmaybe', 'buzz', 'die', 'will', 'will', 'rating']\n",
      "['go', 'lunch', 'friend', 'couple', 'month', 'ago', 'first', 'walk', 'waiter', 'sit', 'lazy', 'rude', 'silent', 'one', 'menu', 'table', 'not', 'care', 'restaurant', 'kinda', 'decorative', 'lantern', 'hang', 'ceiling', 'close', 'light', 'order', 'bowl', 'noodle', 'soup', 'when', 'food', 'arrive', 'delicious', 'second', 'bowl', 'oily', 'bowl', 'look', 'okay', 'about', 'halfway', 'bowl', 'noodle', 'soup', 'discover', 'small', 'dead', 'cockroach', 'bowl', 'do', 'not', 'completely', 'finish', 'noodle', 'soup', 'sick', 'stomach', 'find', 'cockroach', 'food', 'think', 'food', 'absolutely', 'clean', 'do', 'not', 'bug', 'food', 'buddy', 'pay', 'walk', 'place', 'never', 'go', 'place', 'wish', 'half', 'star', 'ugh']\n"
     ]
    },
    {
     "name": "stdout",
     "output_type": "stream",
     "text": [
      "['love', 'pan', 'asian', 'actually', 'good', 'sushi', 'not', 'believe', 'size', 'fish', 'serve', 'nigiri', 'seattle', 'thing', 'general', 'restaurant', '160;also', 'come', 'east', 'coast', 'find', 'use', 'fresh', 'veggie', 'whatnot', 'roll', 'different', 'unique', 'restaurant', 'boston', 'rarely', 'maki', 'roll', 'cucumber', 'avocado', 'cold', 'sake', 'ruby', 'excellent', 'tell', 'try', 'pearl', 'dry', 'glad', 'stick', 'gun', 'ruby', 'dry', 'tasty']\n",
      "Processed 50 out of 99 reviews.\n",
      "['love', 'place', 'dive', 'mean', 'service', 'marginal', 'drink', 'fantastic', 'cheap', 'food', 'loud', 'music', 'cute', 'little', 'deck', 'family', 'hit', 'spot']\n",
      "['meh', 'quick', 'cheap', 'poor', 'quality', 'just', 'review']\n",
      "['love', 'place', 'delicious', 'wish', 'little', 'affordable', 'expect', 'organic']\n",
      "['taco', 'truck', 'high', 'quality', 'great', 'menu', 'choose', 'everything', 'come', 'wait', 'look', 'great', 'taco', 'fixin', 'order', 'delicious', 'drawback', 'wait', 'give', 'truck', 'semi', 'permanence', 'home', 'depot', 'lot', 'not', 'convenient', 'place', 'wait', 'car', 'close', 'enough).i', 'definitely', 'save', 'appetite', 'place', 'time', 'home', 'depot']\n",
      "['loveeeee', 'yogurt', '160;it', 'perfect', 'touch', 'end', 'meal', 'and', 'broth', 'pho', 'good', 'thing', 'not', 'like', 'chicken', 'reason', 'taste', 'bit', 'different', 'wish', 'try', 'sandwich', 'rave', 'maybe', 'time']\n",
      "['live', 'seattle', 'think', 'regular', 'here!we', 'reservation', 'saturday', 'night', 'halloween', 'weekend', 'arrive', 'little', 'later', 'reservation', 'time', 'parking', 'limit', 'parking', 'lot', 'charge', 'arm', 'leg', 'spot', 'fortunate', 'restaurant', 'not', 'that', 'busy', 'arrive', 'seat', 'right', 'away', 'atmosphere', 'vibe', 'place', 'nice', 'be', 'definitely', 'excited', 'hype', 'what', 'recommend:-', 'panda', 'roll', 'personal', 'favorite', 'choose', 'love', 'smoke', 'salmon', 'look', 'intimidating', 'black', 'sesame', 'sauce', 'secret', 'ingredient', 'roll', 'good', 'stand', 'others!-', 'butterfly', 'roll', 'cucumber', 'crab', 'spicy', 'mayo', 'hint', 'cilantro', 'wrap', 'tuna', 'amp', 'avocado', 'cilantro', 'amp', 'tuna', 'make', 'roll', 'different', 'good', 'belltown', 'barbie', 'like', 'seared', 'salmon', 'rolls!-', 'orange', 'crush', 'roll', 'hint', 'cilantro', 'green', 'onion', 'must', 'try', 'sure!-', 'sashimi', 'bowl', 'come', 'piece', 'tuna', 'piece', 'salmon', 'piece', 'yellowtail', 'little', 'tip', 'check', 'happy', 'hour', 'price', 'maybe', 'little', 'expensive', 'sushi', 'place', 'sure', 'worth', 'happy', 'hour', 'great', 'food', 'good', 'service', 'hip', 'amp', 'modern', 'decor', 'group', 'dinner']\n",
      "['hear', 'good', 'thing', 'fly', 'fish', 'decide', 'try', 'friend', 'food', 'not', 'bad', 'mean', 'little', 'disappointing', 'rockfish', 'trouble', 'worth', 'point', 'net', 'enjoyment', 'actually', 'negative', 'opah', 'menu', 'try', 'oil', 'cook', 'flavor', 'fish', 'dry', 'bland', 'apple', 'pie', 'dessert', 'prolly', 'good', 'meal', 'sweet', 'tooth', 'bad', 'service', 'service', 'excruciatingly', 'slow', 'expect', 'restaurant', 'hour', 'hour', 'half', 'but', 'meal', 'drag', 'hour', 'prolly', 'spend', 'time', 'wait', 'food', 'arrive', 'spend', 'actually', 'eat', 'now', 'know', 'lot', 'high', 'end', 'restaurant', 'time', 'prepare', 'dish', 'restaurant', 'not', 'feel', 'be', 'wait', 'happen', 'combine', 'small', 'thing', 'bread', 'come', 'butter', 'cold', 'hard', 'spread', 'water', 'glass', 'feel', 'server', 'not', 'job', 'disappointing', 'food', 'service', 'make', 'tsa', 'look', 'friendly', 'attentive', 'comparison', 'overall', 'bad', 'dining', 'experience', 'seafood', 'option', 'seattle', 'will', 'prolly', 'come', 'fly', 'fish']\n",
      "['just', 'umi', 'sake', 'house', 'new', 'setting', 'capitol', 'hill', 'sleek', 'design', 'sprawl', 'open', 'large', 'circular', 'seating', 'area', 'complete', 'gorgeous', 'japanese', 'garden', 'center', 'stage', 'momiji', 'take', 'menu', 'slight', 'step', 'sister', 'restaurant', 'hot', 'spicy', 'soup', 'oyster', 'shooter', 'salmon', 'baked', 'mussel', 'plethora', 'roll', 'aiming', 'different', 'route', 'stick', 'appetizer', 'criticism', 'slow', 'service', 'recivence', 'food', '-pron-', 'waitress', 'not', 'order', 'half', 'hour', 'seat', 'take', 'roll', 'understand', 'busy', 'opening', 'week', 'kick', 'service', 'certainly', 'not', 'slack', 'clean', 'table', 'soon']\n",
      "['really', 'great', 'phad', 'thai', 'relaxed', 'atmosphere', '160;friendly', 'service', 'reasonably', 'price']\n",
      "['what', 'russian', 'treat', '160;how', 'resist', 'piroshky', 'carefully', 'window', '160;it', 'impossible', '160;i', 'not', 'hungry', '160;you', '160;i', 'beef', 'onion', 'piroshky', 'light', 'greasy', 'flaky', 'stuff', 'goodness', 'tell', 'potato', 'piroshky', 'way', '160;this', 'treat', '160;everyone', 'ushanka', 'hat', 'break', 'matryoshkas', 'not', 'miss']\n",
      "Processed 60 out of 99 reviews.\n",
      "['solid', 'place', 'teriyaki', '160;i', 'try', 'time', 'today', 'impressed', 'tender', 'chicken', '160;not', 'dry', 'fresh', '160;nice', '160;i', 'star', 'glaze', '160;while', 'yummy', 'extremely', 'salty', '160;i', 'not', 'remember', 'have', 'teriyaki', 'glaze', 'salty', '160;it', 'edible', 'rich', 'dark', 'soy', 'flavor', 'salad', 'dressing', 'amazing', '160;seriously', 'seriously', 'good', '160;the', 'rice', 'huge', 'portion', 'perfectly', 'cook', '160;i', 'hate', 'mushy', 'rice', 'big', 'plus', \"i'll\"]\n",
      "['like', 'camino', '160;the', 'employee', 'kind', 'time', 'have', 'food', 'enjoyable', '160;i', 'find', 'not', 'lot', 'variety', 'menu', 'vegetarian', 'allergic', 'shellfish', 'not', 'item', 'eat', 'pretty', 'easy', 'maneuver', 'wheelchair', 'not', 'venture', 'restroom', 'try', 'visit', 'accessibility', '160;the', 'table', 'leg', 'situate', 'friendly', 'easily', 'pull', 'chair', 'issue']\n",
      "['meet', 'friend', 'lunch', 'friday', 'there', 'not', 'selection', 'menu', 'lunch', 'menu', 'order', 'thai', 'restaurant', 'tester', 'dish', 'pad', 'use', 'little', 'soy', 'sauce', 'not', 'awful', 'probably', 'come', 'far', 'way', 'price', 'reasonable', 'pad', 'come', 'portion', 'rice', 'baby', 'egg', 'roll']\n",
      "['fantastic', '160;cheap', 'tasty', 'satisfy', 'mexican', 'food', 'star', '160;if', 'be', 'look', 'ambiance', 'transcendent', 'dining', 'experience', 'look', 'spend', 'money', 'want', 'improve', 'atmosphere', 'food', 'walk', 'street', 'eat', 'watch', 'dodge', 'ball', 'bike', 'polo', 'soccer', 'happen', 'go', 'cal', 'anderson', 'park', '160;you', 'walk', 'block', 'molly', 'moon', 'dessert', \"i've\", 'live', 'chicago', 'large', 'port', 'entry', 'legal', 'immigration', 'mexico', 'rancho', 'bravo', 'good', 'get', 'city', 'burrito', 'compact', 'dense', 'pack', 'meat', 'instead', 'lot', 'starchy', 'filler', '160;the', 'bravo', 'burrito', 'bit', 'dry', 'taste', 'prefer', 'rancho', 'burrito', 'include', 'sour', 'cream', '160;the', 'pozole', 'pork', 'stew', 'meatball', 'soup', 'stew', 'form', 'good', 'nice', 'able', 'horchata', 'good', 'horchata']\n",
      "['phad', 'thai', 'super', 'hot', 'pretty', 'sure', 'order', 'star', 'spicy', 'feel', 'yowza!cramp', 'quarter', 'service', 'perfunctory', 'not', 'impressed']\n",
      "['afraid', 'return', 'location', 'last', 'time', 'visit', 'ask', 'star', 'friend', 'star', 'open', 'container', 'stars', '160;we', 'go', 'show', 'worker', 'ask', 'star', 'ask', 'star', 'star', 'blink', 'blink\"', 'chili', 'sauce', '160;give', 'chili', 'sauce']\n",
      "['place', 'waterfront', 'provide', 'beautiful', 'scenery', 'say', 'view', 'probably', 'good', 'place', \"160;i've\", 'ivar', 'friend', 'couple', 'time', 'happy', 'hour', 'good:-', 'happy', 'hour', '3:30', 'close', 'day', 'week.-', 'lot', 'parking', 'lot', 'street-', 'nice', 'view', 'water-', 'decent', 'price', 'happy', 'hour', 'food', 'drink', 'bad:-', 'service', 'absolutely', 'horrible', '160;we', 'sit', 'table', 'clean', 'fit', 'party', '160;the', 'waiter', 'come', 'buss', 'table', 'wipe', 'rag', '160;crumbs', 'water', 'stain', '160;he', 'take', 'order', 'clean', 'table', 'say', 'new', 'waiter', 'mean', 'experience', 'waiter', 'watch', 'make', 'sure', 'standard', 'guess', 'ivar', 'standard', 'staff', 'overall', 'experience', 'alright', 'satisfy', 'seafood', 'fancy']\n",
      "['introduce', 'place', 'friend', 'right', 'away', 'sushi', 'restaurant', 'seattle', 'area', 'come', 'ambiance', 'decor', 'roll', 'cocktail', 'come', 'fish', 'spendy', 'quality', 'fish', 'notable', 'order', 'kind', 'sashimi', 'taste', 'delicate', 'flavor', 'sweetness', 'oiliness', 'fish', 'seasoned', 'sticky', 'rice', 'use', 'local', 'ingredient', 'wish', 'plus', 'book', 'favorite', 'include', 'belltown', 'poke', 'hamachi', 'saba', 'shiro', 'maguro', 'disappoint']\n",
      "['year', 'recently', 'start', 'work', 'downtown', 'right', 'pike', 'place', 'market', 'today', 'try', 'think', 'lunch', 'pass', 'market', 'remember', 'day', 'try', 'hombow', 'year', 'ago', 'place', 'luckily', 'find', 'quickly', 'order', 'humbow', 'one', 'sweet', 'curry', 'bbq', 'pork', 'lady', 'nice', 'give', 'change', 'big', 'bill', 'tthe', 'take', 'roll', 'head', 'water', 'definitely', 'awesome', 'lunch', 'break']\n",
      "['thank', 'darl', 'carta', 'bartender', 'make', 'good', 'rita', 'town', 'realize', 'potential', 'have', 'ball', 'open', 'adorable', 'intimate', 'place', 'ballard', 'adorable', 'intimate', 'hard', 'come', 'vibe', 'perfection', 'waitstaff', 'impeccable', 'include', 'owner', 'cook', 'tend', 'bar', 'schmooze', 'playlist', 'worth', 'note', 'copying', 'menu', 'favorite', 'ingredient', 'price', 'wallet', 'smile', 'dollar', 'margarita', 'knock', 'sock', 'wish', 'cut', 'numero', 'uno', 'not', 'think', 'will', 'need', 'good', 'look', 'shaggy', 'haired', 'entrepreneur']\n"
     ]
    },
    {
     "name": "stdout",
     "output_type": "stream",
     "text": [
      "Processed 70 out of 99 reviews.\n",
      "['when', 'towner', 'come', 'visit', 'usually', 'dim', 'sum', 'why', 'ask', 'easy', 'parking', 'lot', 'good', 'group', 'fairly', 'price', 'dim', 'sum', 'good', 'touch', 'oil', 'time)and', 'know', 'lady', 'cart', 'aloof', 'ton', 'people', 'star', 'willing', 'stop', 'table', 'just', 'sure', 'group', 'fair', 'think', 'cart', 'pass', 'way', 'good', 'bad', 'people', 'eat', 'pair']\n",
      "['waste', 'lunch', 'break', 'today', 'walk', '5th', 'union', 'website', 'try', 'food', '160;they', '160;after', 'get', 'office', 'see', 'twitter', 'feed', 'say', 'slu', '160;that', 'post', 'hour', 'ago', '11:30', 'site', 'say', 'downtown', '160;apparently', 'disorganized', 'probably', 'not', 'bode', 'food']\n",
      "['teriyaki', 'joint', 'dine', 'takeout', 'have', 'frequent', 'orange', 'king', 'college', 'day', 'management', 'change', 'time', 'consistently', 'serve', 'tasty', 'food', 'fair', 'price', 'seriously', 'ave', 'choose', 'teriyaki', 'burger', 'prepared', 'busy', 'lunch', 'crowd', 'college', 'kid', 'know', 'fyi', 'free', 'drink', 'check', 'yelp', 'app']\n",
      "['hotpot', 'awesome', '160;green', 'onion', 'pancake', 'spicy', 'wonton', 'good', 'appetizer', '160;service', 'good', 'friendly', \"160;don't\", 'waffle', 'kind', 'broth', 'want', 'bring', 'wrong', 'kind', '160;really', 'non', 'spicy', 'broth', 'not', 'eat', 'hotpot', 'begin']\n",
      "['count', 'silly', 'people', 'review', 'food', '160;in', 'general', 'thai', 'food', 'get', 'kind', 'boring', 'seattle', 'food', 'pretty', 'good', '160;they', 'star', 'silly', 'happy', 'hour', '160;i', 'go', '3:50pm', '160;i', 'easily', 'sit', 'outside', 'minute', 'think', 'restaurant', 'care', 'minute', 'happy', 'hour', 'price', 'start', '160;long', 'story', 'short', 'leave', 'lady', 'say', 'not', 'happy', 'hour', 'price', 'come', '4:00pm', 'strict', '160;were', 'strict', 'not', 'come', 'restaurant', '160;i', 'guess', \"160;don't\", 'worry', 'will', 'tell', 'friend']\n",
      "['yum', 'pretty', 'authentic', 'probably', 'good', 'chinese', 'place', 'china', 'town']\n",
      "['bring', 'fruity', 'drink', 'umbrella', 'word', 'mouth', 'walk', 'benihana', 'bar', 'wait', 'party', 'join', 'sure', 'benihana', 'pretty', 'obligated', 'drink', 'umbrella', 'not', 'sacreligious', 'meet', 'family', 'celebrate', 'belat', 'father', 'day', 'dad', 'birthday', 'wait', 'bar', 'youngin', 'group', 'arrive', 'table', 'sip', 'super', 'sweet', 'mai', 'thai', 'enjoy', 'generall', 'cocophony', 'benihana', '-pron-', 'table', 'good', 'share', 'couple', 'look', 'lol', 'enjoy', 'teh', 'niece', 'year', 'old', 'especially', 'enjoy', 'host', 'call', 'princess', 'chef', 'sweet', 'keep', 'constant', 'entertainment', 'go', 'sure', 'little', 'try', 'usual', 'overpriced', 'end', 'food', 'descent', 'know', 'fun', 'good', 'entertainment', 'real', 'complaint', 'cook', 'steak', 'perfectly', 'cold', 'middle', 'complaint', 'will', 'sister', 'medium', 'bit', 'rare', 'think', 'expect', 'great', 'place', 'kid', 'afford', 'sappy', 'date', 'night', 'prom', 'queen', 'homecoming', 'princess', 'alike']\n",
      "['original', 'saigon', 'deli', 'location', 'sell', 'late', \"90'\", 'what', 'like', 'place', 'offer', 'size', 'vietnamese', 'coffee', 'guy', 'get', 'piss', 'not', 'understand', 'vietnamese', 'dude', 'half', 'chinese', 'wtf!other', 'open', 'later', 'saigon', 'deli', 'quality', 'good', 'judge']\n",
      "['only', 'time', 'come', 'dim', 'sum', 'dim', 'sum', 'comparable', 'bay', 'area', 'dim', 'sum', '160;the', 'downside', 'try', 'park', 'structure', 'scary', 'hell', 'try', 'drive']\n",
      "['there', 'people', 'wait', 'jade', 'garden', 'not', 'know', 'people', 'veteran', 'day', 'what', 'not', 'know', 'have', 'get', 'dim', 'sum', 'mind', 'stop', 'wander', 'street', 'restaurant', 'not', 'crazy', 'busy', 'jade', 'garden', 'totally', 'eek', 'serve', 'dim', 'sum', 'luckily', 'come', 'sun', 'wait', 'minute', 'table', 'service', 'friendly', 'food', 'good', 'not', 'favorite', 'leave', 'satisfied', 'shu', 'especially', 'delicious', 'come']\n",
      "Processed 80 out of 99 reviews.\n",
      "['honest', 'not', 'head', 'heel', 'love', 'fly', 'fish', 'have', 'seafood', 'restaurant', 'hear', 'rave', 'review', 'restaurant', 'however', 'not', 'measure', 'fish', 'member', 'group', 'order', 'not', 'fresh', 'mean', 'be', 'claim', 'good', 'seafood', 'restaurant', 'seattle', 'not', 'fresh', 'fish', 'very', 'confusing', 'everything', 'main', 'course', 'sooooooooo', 'loud', 'restaurant', 'barely', 'person', 'sit', 'and', 'service', 'ssslllooowww', 'thing', 'enjoy', 'dessert', 'warm', 'grappa', 'brownie', 'worth', 'comment', 'give', 'endure', 'mediocre', 'food', 'bad', 'service', 'noisy', 'unpleasant', 'atmosphere']\n",
      "['star', 'cute', 'little', 'noodle', 'joint.1', 'clean', 'interior', 'bathroom2', 'server', 'late', 'early', 'sassy', 'dresser', 'find', 'polite', 'accommodate', 'chef', 'owner', 'tall', 'guy', 'mike', 'easy', 'going', 'nice', 'staff', 'big', 'tall', \"6'1\", 'good', 'tall', 'fine', 'look', 'asian', 'man', 'hood.4', 'base', 'nina', 'review', 'go', 'order', 'chowmein', 'not', 'menu', 'little', 'timid', 'ask', 'special', '8pm', 'take', 'order', 'different', 'table', 'time', 'order', 'egg', 'noodle', 'julienne', 'pork', 'sweet', 'spicy', 'sauce', 'steam', 'wonton', 'shoyu', 'jalapeno', 'dipping', 'sauce', 'think', 'noodle', 'sauce', 'little', 'sweet', 'compliment', 'pork', 'noodle', 'fairly', 'sure', 'stop', 'run', 'fine', 'place']\n",
      "['try', 'time', 'sat', 'couple', '160;originally', 'suppose', 'luc', 'street', 'reservation', 'lose', 'unclear', 'table', 'voila', 'seat', 'pretty', 'quickly', 'decor', 'greeting', 'service', 'bar', 'tableside', 'quick', 'friendly', 'responsive', 'impressed', 'serve', 'mussel', 'different', 'sauce', 'see', 'seattle', 'all', 'course', 'good', 'mussel', 'cassoulet', 'hanger', 'steak', 'accept', 'ribeye', 'steak', 'good', '160;the', 'cut', 'thin', 'overcook', '160;taste', 'wise', 'truffle', 'butter', 'excellent', 'accompany', 'frite', 'american', 'style', '160;we', 'like', 'dessert', 'profiterole', 'coffee', 'return', 'recommend']\n",
      "['go', 'pay', 'attention', 'review', 'mention', 'rodent', 'restaurant', 'even', 'fine', 'dining', 'hater', 'hatin', 'not', 'care', 'place', 'sooooo', 'gooood', 'good', 'thai', 'food', 'quick', 'rush', 'place', 'linger', 'order', 'level', 'hotness', 'yum!i', 'think', 'cook', 'george', 'skinny', 'little', 'dude', 'move', 'mile', 'minute', 'cook', 'usually', 'dish', 'guy', 'deserve', 'michelin', 'star']\n",
      "['moderately', 'price', 'enjoy', 'oyako', 'don', 'jump', 'spectacular', '160;it', 'not', 'ambiance', 'culinary', 'level', 'maybe', 'expectation', 'high', 'not', 'element', 'experience', 'genuinely', 'little', 'offer', 'experience', 'completely', 'bland']\n",
      "['great', 'place', 'hang', 'like', 'intimate', 'cozy', 'sexy', 'setting', 'light', 'dim', 'interesting', 'interior', 'feel', 'bar', 'inside', 'library', 'small', 'guess', 'give', 'intimate', 'vibe', 'great', 'place', 'visit', 'appreciate', 'art', 'mixology', '-pron-', 'menu', 'elaborate', 'selection', 'cocktail', 'try', 'different', 'recipe', 'customer', 'service', 'good', 'soon', 'walk', 'ask', 'help']\n",
      "['good', 'service', 'time', 'eat', 'kushibar', '160;the', 'food', 'yummy', 'time', '160;i', 'go', 'friend', 'town', 'enjoy', '160;we', 'order', 'bunch', 'skewer', 'meat', '160;the', 'eel', 'die', 'melt', 'mouth', 'time', 'end', 'order', 'eel']\n",
      "['take', 'bus', 'downtown', 'visit', 'seattle', 'easy', 'seat', 'promptly', 'good', 'thai', 'food', 'have', 'eat', 'thai', 'tom', 'not', 'find', 'thai', 'food', 'place', 'close', 'place']\n",
      "['go', 'happy', 'hour', 'service', 'fine', 'food', 'overprice', 'happy', 'hour', 'discount', 'beer', 'fry', 'pickle', 'quesadilla', '160;i', 'think', 'quesadilla', 'normally', 'buck', 'way', 'quarter', 'tortilla', 'pico', 'gallo', 'sour', 'cream', 'fry', 'pickle', 'way', 'salty', 'beer', 'price', 'high', 'happy', 'hour', 'not', 'impressed']\n",
      "['not', 'review', 'thing', 'come', 'feel', 'need', 'add', 'cent', 'solstice', 'get', 'bit', 'paltry', 'bank', 'account', 'year', 'mixed', 'feeling', 'solstice', 'like', 'food', 'tea', 'drink', 'selection', 'strongly', 'dislike', 'surly', 'attitude', 'audience', 'review', 'audience', 'one', 'would', 'entrepreneur', 'low', 'aveplease', 'consider', 'open', 'good', 'quality', 'coffee', 'shop', 'friendly', 'service', 'surprisingly', 'lack', 'department', 'ugly', 'mug', 'small', 'room', 'sit).audience', 'two', 'potential', 'customerspastrie', 'good', 'espresso', 'drink', 'cold', 'generally', 'fine', 'herbal', 'tea', 'selection', 'good', 'music', 'like', 'loud', 'layout', 'good', 'space', 'patio', 'nice', 'outdoor', 'seating', 'smoke', 'enjoyable', 'fresh', 'air', 'perspective', 'wifi', 'unusable', 'place', 'pretty', 'barista', 'unfriendly', 'point', 'rude', 'male', 'barista', 'dayaudience', 'three', 'solstice', 'staffconsider', 'employee', 'shakeup', 'hard', 'pretty', 'necessary', 'case', 'enjoy', 'be', 'find', 'new', 'line', 'work', 'treat', 'customer', 'livelihood', 'partner', 'say', 'long', 'time', 'go', 'stop', 'come', 'think', 'time', 'finally', 'fulfill', 'vow']\n",
      "Processed 90 out of 99 reviews.\n",
      "['new', 'neighborhood', 'restaurant', 'watch', 'transform', 'business', 'mexican', 'place', 'classy', 'pub', 'have', 'twice', 'time', 'beer', 'pumpkin', 'brew', 'delicious', 'come', 'small', 'glass', 'fancy', 'goblet', 'price', 'regular', 'pint', 'sometimes', 'super', 'flavorful', 'beer', 'bit', 'then', 'go', 'friday', 'night', 'dinner', 'swear', 'price', 'drop', 'open', 'when', 'look', 'menu', 'post', 'window', 'think', 'original', 'price', 'pretty', 'high', 'cheap', 'thing', 'burger', 'but', 'menu', 'item', 'cheeseburger', 'juicy', 'cook', 'order', 'fry', 'excellent', 'spendy', 'burger', 'beer', 'total', 'ton', 'eat', 'definitely', 'willing', 'sample', 'happy', 'hour']\n",
      "['pastor', 'get', 'great', 'chicharones', 'good', 'kind', 'like', 'turn', 'big', 'difference', 'chihuahuan', 'style', 'live', 'future']\n",
      "['seemingly', 'harmless', 'mexican', 'restaurant', 'day', 'margarita', 'fuel', 'snoop', 'dog', 'jam', 'greasy', 'horror', 'show', 'night', 'new', 'term', 'greasy', 'horror', 'fond', 'past', 'week', 'will', 'good', 'provide', 'accurate', 'definition', 'greasy', 'horror', 'show', 'noun', 'group', 'sloppy', 'drunk', 'people', 'generally', 'female', 'make', 'fool', 'usually', 'involve', 'crude', 'sexual', 'gesturing', 'table', 'dancing', 'erratic', 'emotional', 'behavior', 'often', 'end', 'blackout', 'decision', 'regret', 'following', 'day', 'loved', 'pesos', 'not', 'buy', 'kind', 'entertainment', 'do', 'love', 'flight', 'home']\n"
     ]
    },
    {
     "name": "stdout",
     "output_type": "stream",
     "text": [
      "['bus', 'skylark', 'night', 'murder', 'party', 'play', 'easy', 'expect', 'bus', 'go', 'capital', 'hill', 'house', 'go', 'right', 'skylark', 'either', 'second', 'stop', 'soon', 'get', 'west', 'seattle', 'bridge', 'walk', 'distance', 'place', 'bus', 'come', '11:30pm', 'make', 'great', 'place', 'dinner', 'start', 'night', 'drinking', 'work', 'way', 'home', 'way', 'favorite', 'bar', 'little', 'small', 'venue', 'twilight', 'size', 'expect', 'big', 'far', 'city', 'turn', 'nice', 'high', 'ceiling', 'definitely', 'feel', 'big', 'live', 'music', 'great', 'band', 'play', 'right', 'bar', 'venue', 'jules', 'mae', 'band', 'room', 'not', 'crowd', 'capital', 'hill', 'venue', 'comet', 'show', 'early', 'probably', 'order', 'food', 'sit', 'waitress', 'find', 'hummus', 'appetizer', 'place', 'great', 'super', 'fresh', 'vegan', 'sandwich', 'awesome', 'be', 'cheese', 'grill', 'cheese', 'sandwich', 'appetizer', 'mozzarella', 'log', 'sound', 'wonderful', 'check', 'online', 'menu', 'wonder', 'ghetto', 'platter\".all', 'awesome', 'venue', 'bit', 'far', 'away', 'regularly']\n",
      "['prefer', 'kisaku', 'shiro', 'leave', 'little', 'desire', '160;i', 'pleased', 'sushi', '160;next', 'time', 'will', 'try', 'omakase', '160;make', 'reservation', 'fridays', 'saturdays', 'expect', 'sure', 'not', 'seat', 'bit', 'private', 'feel', 'sterile', 'detach', 'charm', 'main', 'restaraunt']\n",
      "['drool', 'warning', 'dont', 'come', 'weekend', 'holiday', 'wait', 'horrible!mov', 'food', 'critic', '-pron-', 'stuff', 'amazing', 'everything', 'come', 'hot', 'request', 'special', 'there', 'definitely', 'complaint', 'food', 'service', 'sucky', 'go', 'weekend', 'start', 'dim', 'sum', 'early', 'good', 'time', 'weekend', '-pron-', 'jammed', 'pack', 'wait', 'bitch', 'hate', 'wait', 'hate', 'have', 'share', 'table', 'people', 'know', '-pron-', 'happen', 'couple', 'time', 'busy', 'ask', 'squeeze', 'couple', 'large', 'table', 'fond', 'have', 'watch', 'els', 'eat', 'habit', 'not', 'know', 'maybe', 'people', 'polite', 'stare', 'people', 'eat', 'parking', 'suck']\n",
      "['decide', 'hit', 'happy', 'hour', 'lounge', 'area', 'late', 'night', 'meal', 'restaurant', 'close', 'main', 'dining', 'area', 'evening', 'lounge', 'relatively', 'pack', 'able', 'find', 'table', 'window', 'face', 'lake', 'union', 'also', 'outdoor', 'area', 'equal', 'table', 'indoor', 'lounge', 'area', 'friday', 'night', 'happy', 'hour', 'inevitable', 'find', 'fight', 'seating', 'however', 'happy', 'hour', 'price', 'bit', 'expensive', 'relatively', 'small', 'entree', 'fish', 'chip', 'set', 'dollar', 'three', 'small', 'piece', 'cod', 'half', 'handful', 'fry', 'dollar', 'there', 'definitely', 'place', 'bit', 'university', 'washington', 'campus', 'find', 'decently', 'sized', 'meal', 'addition', 'group', 'fare', 'oyster', 'shooter', 'probably', 'order', 'find', 'money', 'better', 'spend', 'dollar', 'draft', 'beer', '-pron-', 'advice', 'advantage', 'rare', 'warm', 'night', 'summer', 'season', 'chill', 'outdoor', 'deck', 'outdoor', 'deck', 'conducive', 'conversation', 'especially', 'large', 'group']\n",
      "['try', 'sushi', 'happy', 'hour', 'pretty', 'good', 'not', 'huge', 'fan', 'roll', 'sake', 'cheap', 'surprised', 'get', 'bill', 'expensive', 'expect', 'but', 'noon', 'usually', 'eat', 'couple', 'hour', 'day', 'get', 'special', 'rice?again', 'not', 'love', 'roll', 'like', 'sushi', 'roll', 'take', 'notch', 'almost', '3.5?not', 'sure', 'good', 'kind', 'way', 'and', 'strong', 'draw']\n",
      "['time', 'have', 'hawaiian', 'food', 'spam', '160;i', 'pleasantly', 'surprised', 'spam', 'compliment', 'soup', 'eat', '160;the', 'barbecue', 'rib', 'tasty', 'pasta', 'salad', 'great', 'compliment', '160;finally', 'coconut', 'cream', 'pie', 'amazing', '160;i', 'recommend', 'place', 'dessert', 'all', 'price', 'comparable', 'restaurant', 'wallingford', 'food', 'satisfy', 'mood', 'pizza', 'thai', '160;i', 'soon']\n",
      "['omg', 'place', 'legit', 'chef', 'have', 'see', 'person', 'churn', 'dish', 'efficiently', 'life', 'family', 'go', 'dinner', 'tonight', 'place', 'pack', 'wait', 'minute', 'order', 'take', 'time', 'sit', 'wait', 'couple', 'minute', 'dish', 'come', 'order', 'garlic', 'pepper', 'chicken', 'yellow', 'curry', 'chicken', 'basil', 'tofu', 'pad', 'thai', 'dish', 'come', 'bit', 'steamed', 'rice', 'seat', 'bar', 'chef', 'get', 'firsthand', 'dish', 'create', 'singlehandedly', 'man', 'range', 'wok', 'ladle', 'spatula', 'feel', 'slow', 'comparison', 'kind', 'feel', 'pressured', 'eat', 'quickly', 'combination', 'spiciness', 'dish', 'bit', 'indigestion', 'flavor', 'dish', 'pretty', 'good', 'price', 'super', 'awesome', 'rainy', 'day', 'small', 'dining', 'area', 'proximity', 'range', 'ensure', 'dining', 'experience', 'warm']\n"
     ]
    }
   ],
   "source": [
    "hy_clean = cleanup_text(hy_text[5600:],logging=True)"
   ]
  },
  {
   "cell_type": "code",
   "execution_count": 281,
   "metadata": {},
   "outputs": [
    {
     "data": {
      "text/plain": [
       "0     place great ambiance food service good get sus...\n",
       "1     think place potential not 160;tri chicken skew...\n",
       "2     love tou nyu especially hot sauce especially c...\n",
       "3     impression love atmosphere place get seat outs...\n",
       "4     be look night stand tuesday afternoon peso pla...\n",
       "5     not believe review fly fish locate first avenu...\n",
       "6     place choice quick chinese snack order congee ...\n",
       "7     get korean food shin anything kimchi instant w...\n",
       "8     rocking wok delectable destination love menu 1...\n",
       "9     love vietnamese deli honestly food great quali...\n",
       "10    wander new neighborhood evening try find uncro...\n",
       "11    fact wait seat strong testament popularity del...\n",
       "12    place practically lunchtime monday not deter t...\n",
       "13    one good taco truck burrito have horchata good...\n",
       "14    meeeeeeh thought check compare blue sushiland ...\n",
       "15    vouch sushi sashimi good and good place what c...\n",
       "16    want visit market hear song blue scholars when...\n",
       "17    delicious friendly cheap vietnamese deli seatt...\n",
       "18    not confuse siagon vietnam deli corner jackson...\n",
       "19    have go move state time year food american foo...\n",
       "20    fast food close restaurant star cheap good mex...\n",
       "21    sleezy old school 160;seattle hangout 160;wear...\n",
       "22    stroll ave day happen pass place now normally ...\n",
       "23    definitely omakase dinner 160;it chef choice c...\n",
       "24    not bad little hole wall lunch grant rush go y...\n",
       "25    good thai have find seattle good seat house co...\n",
       "26    let state right bat star apply only food delic...\n",
       "27    friendly staff great service love atmosphere g...\n",
       "28    anywhere buy huge bag frozen xiao long bao get...\n",
       "29                         burger tasty out twice price\n",
       "                            ...                        \n",
       "69    when towner come visit usually dim sum why ask...\n",
       "70    waste lunch break today walk 5th union website...\n",
       "71    teriyaki joint dine takeout have frequent oran...\n",
       "72    hotpot awesome 160;green onion pancake spicy w...\n",
       "73    count silly people review food 160;in general ...\n",
       "74    yum pretty authentic probably good chinese pla...\n",
       "75    bring fruity drink umbrella word mouth walk be...\n",
       "76    original saigon deli location sell late 90' wh...\n",
       "77    only time come dim sum dim sum comparable bay ...\n",
       "78    there million people wait jade garden not know...\n",
       "79    honest not head heel love fly fish have seafoo...\n",
       "80    star cute little noodle joint.1 clean interior...\n",
       "81    try time sat couple 160;originally suppose luc...\n",
       "82    go pay attention review mention rodent restaur...\n",
       "83    moderately price enjoy oyako don jump spectacu...\n",
       "84    great place hang like intimate cozy sexy setti...\n",
       "85    good service time eat kushibar 160;the food yu...\n",
       "86    take bus downtown visit seattle easy seat prom...\n",
       "87    go happy hour service fine food overprice happ...\n",
       "88    not review thing come feel need add cent solst...\n",
       "89    new neighborhood restaurant watch transform bu...\n",
       "90    pastor get great chicharones good kind like tu...\n",
       "91    seemingly harmless mexican restaurant day marg...\n",
       "92    bus skylark night murder party play easy expec...\n",
       "93    prefer kisaku shiro leave little desire 160;i ...\n",
       "94    drool warning dont come weekend holiday wait h...\n",
       "95    decide hit happy hour lounge area late night m...\n",
       "96    try sushi happy hour pretty good not huge fan ...\n",
       "97    time have hawaiian food spam 160;i pleasantly ...\n",
       "98    omg place legit chef have see person churn dis...\n",
       "Length: 99, dtype: object"
      ]
     },
     "execution_count": 281,
     "metadata": {},
     "output_type": "execute_result"
    }
   ],
   "source": [
    "hy_clean"
   ]
  },
  {
   "cell_type": "code",
   "execution_count": 266,
   "metadata": {},
   "outputs": [
    {
     "data": {
      "text/plain": [
       "[('', 143510),\n",
       " ('MONEY', 2583),\n",
       " ('ORG', 1643),\n",
       " ('CARDINAL', 1203),\n",
       " ('PERSON', 1039),\n",
       " ('DATE', 1002),\n",
       " ('TIME', 960),\n",
       " ('GPE', 735),\n",
       " ('NORP', 576),\n",
       " ('ORDINAL', 214),\n",
       " ('LOC', 191),\n",
       " ('FAC', 156),\n",
       " ('WORK_OF_ART', 105),\n",
       " ('PRODUCT', 92),\n",
       " ('QUANTITY', 79),\n",
       " ('PERCENT', 47),\n",
       " ('EVENT', 38),\n",
       " ('LANGUAGE', 14),\n",
       " ('LAW', 12)]"
      ]
     },
     "execution_count": 266,
     "metadata": {},
     "output_type": "execute_result"
    }
   ],
   "source": [
    "Counter(hy_clean['entity']).most_common(30)"
   ]
  },
  {
   "cell_type": "code",
   "execution_count": 267,
   "metadata": {},
   "outputs": [
    {
     "name": "stdout",
     "output_type": "stream",
     "text": [
      "Processed 10 out of 1305 documents.\n",
      "Processed 20 out of 1305 documents.\n",
      "Processed 30 out of 1305 documents.\n",
      "Processed 40 out of 1305 documents.\n",
      "Processed 50 out of 1305 documents.\n",
      "Processed 60 out of 1305 documents.\n",
      "Processed 70 out of 1305 documents.\n",
      "Processed 80 out of 1305 documents.\n",
      "Processed 90 out of 1305 documents.\n",
      "Processed 100 out of 1305 documents.\n",
      "Processed 110 out of 1305 documents.\n",
      "Processed 120 out of 1305 documents.\n",
      "Processed 130 out of 1305 documents.\n",
      "Processed 140 out of 1305 documents.\n",
      "Processed 150 out of 1305 documents.\n",
      "Processed 160 out of 1305 documents.\n",
      "Processed 170 out of 1305 documents.\n",
      "Processed 180 out of 1305 documents.\n",
      "Processed 190 out of 1305 documents.\n",
      "Processed 200 out of 1305 documents.\n",
      "Processed 210 out of 1305 documents.\n",
      "Processed 220 out of 1305 documents.\n",
      "Processed 230 out of 1305 documents.\n",
      "Processed 240 out of 1305 documents.\n",
      "Processed 250 out of 1305 documents.\n",
      "Processed 260 out of 1305 documents.\n",
      "Processed 270 out of 1305 documents.\n",
      "Processed 280 out of 1305 documents.\n",
      "Processed 290 out of 1305 documents.\n",
      "Processed 300 out of 1305 documents.\n",
      "Processed 310 out of 1305 documents.\n",
      "Processed 320 out of 1305 documents.\n",
      "Processed 330 out of 1305 documents.\n",
      "Processed 340 out of 1305 documents.\n",
      "Processed 350 out of 1305 documents.\n",
      "Processed 360 out of 1305 documents.\n",
      "Processed 370 out of 1305 documents.\n",
      "Processed 380 out of 1305 documents.\n",
      "Processed 390 out of 1305 documents.\n",
      "Processed 400 out of 1305 documents.\n",
      "Processed 410 out of 1305 documents.\n",
      "Processed 420 out of 1305 documents.\n",
      "Processed 430 out of 1305 documents.\n",
      "Processed 440 out of 1305 documents.\n",
      "Processed 450 out of 1305 documents.\n",
      "Processed 460 out of 1305 documents.\n",
      "Processed 470 out of 1305 documents.\n",
      "Processed 480 out of 1305 documents.\n",
      "Processed 490 out of 1305 documents.\n",
      "Processed 500 out of 1305 documents.\n",
      "Processed 510 out of 1305 documents.\n",
      "Processed 520 out of 1305 documents.\n",
      "Processed 530 out of 1305 documents.\n",
      "Processed 540 out of 1305 documents.\n",
      "Processed 550 out of 1305 documents.\n",
      "Processed 560 out of 1305 documents.\n",
      "Processed 570 out of 1305 documents.\n",
      "Processed 580 out of 1305 documents.\n",
      "Processed 590 out of 1305 documents.\n",
      "Processed 600 out of 1305 documents.\n",
      "Processed 610 out of 1305 documents.\n",
      "Processed 620 out of 1305 documents.\n",
      "Processed 630 out of 1305 documents.\n",
      "Processed 640 out of 1305 documents.\n",
      "Processed 650 out of 1305 documents.\n",
      "Processed 660 out of 1305 documents.\n",
      "Processed 670 out of 1305 documents.\n",
      "Processed 680 out of 1305 documents.\n",
      "Processed 690 out of 1305 documents.\n",
      "Processed 700 out of 1305 documents.\n",
      "Processed 710 out of 1305 documents.\n",
      "Processed 720 out of 1305 documents.\n",
      "Processed 730 out of 1305 documents.\n",
      "Processed 740 out of 1305 documents.\n",
      "Processed 750 out of 1305 documents.\n",
      "Processed 760 out of 1305 documents.\n",
      "Processed 770 out of 1305 documents.\n",
      "Processed 780 out of 1305 documents.\n",
      "Processed 790 out of 1305 documents.\n",
      "Processed 800 out of 1305 documents.\n",
      "Processed 810 out of 1305 documents.\n",
      "Processed 820 out of 1305 documents.\n",
      "Processed 830 out of 1305 documents.\n",
      "Processed 840 out of 1305 documents.\n",
      "Processed 850 out of 1305 documents.\n",
      "Processed 860 out of 1305 documents.\n",
      "Processed 870 out of 1305 documents.\n",
      "Processed 880 out of 1305 documents.\n",
      "Processed 890 out of 1305 documents.\n",
      "Processed 900 out of 1305 documents.\n",
      "Processed 910 out of 1305 documents.\n",
      "Processed 920 out of 1305 documents.\n",
      "Processed 930 out of 1305 documents.\n",
      "Processed 940 out of 1305 documents.\n",
      "Processed 950 out of 1305 documents.\n",
      "Processed 960 out of 1305 documents.\n",
      "Processed 970 out of 1305 documents.\n",
      "Processed 980 out of 1305 documents.\n",
      "Processed 990 out of 1305 documents.\n",
      "Processed 1000 out of 1305 documents.\n",
      "Processed 1010 out of 1305 documents.\n",
      "Processed 1020 out of 1305 documents.\n",
      "Processed 1030 out of 1305 documents.\n",
      "Processed 1040 out of 1305 documents.\n",
      "Processed 1050 out of 1305 documents.\n",
      "Processed 1060 out of 1305 documents.\n",
      "Processed 1070 out of 1305 documents.\n",
      "Processed 1080 out of 1305 documents.\n",
      "Processed 1090 out of 1305 documents.\n",
      "Processed 1100 out of 1305 documents.\n",
      "Processed 1110 out of 1305 documents.\n",
      "Processed 1120 out of 1305 documents.\n",
      "Processed 1130 out of 1305 documents.\n",
      "Processed 1140 out of 1305 documents.\n",
      "Processed 1150 out of 1305 documents.\n",
      "Processed 1160 out of 1305 documents.\n",
      "Processed 1170 out of 1305 documents.\n",
      "Processed 1180 out of 1305 documents.\n",
      "Processed 1190 out of 1305 documents.\n",
      "Processed 1200 out of 1305 documents.\n",
      "Processed 1210 out of 1305 documents.\n",
      "Processed 1220 out of 1305 documents.\n",
      "Processed 1230 out of 1305 documents.\n",
      "Processed 1240 out of 1305 documents.\n",
      "Processed 1250 out of 1305 documents.\n",
      "Processed 1260 out of 1305 documents.\n",
      "Processed 1270 out of 1305 documents.\n",
      "Processed 1280 out of 1305 documents.\n",
      "Processed 1290 out of 1305 documents.\n",
      "Processed 1300 out of 1305 documents.\n"
     ]
    }
   ],
   "source": [
    "hy_clean = cleanup_text(nhy_text[158000:],logging=True)"
   ]
  },
  {
   "cell_type": "code",
   "execution_count": 270,
   "metadata": {},
   "outputs": [
    {
     "data": {
      "text/plain": [
       "[('', 189695),\n",
       " ('MONEY', 3500),\n",
       " ('ORG', 2109),\n",
       " ('CARDINAL', 1439),\n",
       " ('DATE', 1343),\n",
       " ('PERSON', 1264),\n",
       " ('TIME', 1233),\n",
       " ('GPE', 859),\n",
       " ('NORP', 504),\n",
       " ('ORDINAL', 279),\n",
       " ('LOC', 230),\n",
       " ('WORK_OF_ART', 181),\n",
       " ('FAC', 171),\n",
       " ('QUANTITY', 112),\n",
       " ('PRODUCT', 106),\n",
       " ('EVENT', 58),\n",
       " ('PERCENT', 43),\n",
       " ('LAW', 13),\n",
       " ('LANGUAGE', 5)]"
      ]
     },
     "execution_count": 270,
     "metadata": {},
     "output_type": "execute_result"
    }
   ],
   "source": [
    "Counter(hy_clean['entity']).most_common(30)"
   ]
  },
  {
   "cell_type": "code",
   "execution_count": 226,
   "metadata": {},
   "outputs": [
    {
     "data": {
      "image/png": "[encoded data removed]",
      "text/plain": [
       "<matplotlib.figure.Figure at 0x1a4b9b8da0>"
      ]
     },
     "metadata": {},
     "output_type": "display_data"
    }
   ],
   "source": [
    "hy_clean = ' '.join(hy_clean).split()\n",
    "hy_counts = Counter(hy_clean)\n",
    "hy_common_words = [word[0] for word in hy_counts.most_common(30)]\n",
    "hy_common_counts = [word[1] for word in hy_counts.most_common(30)]\n",
    "fig = plt.figure(figsize=(38,6))\n",
    "sns.barplot(x=hy_common_words, y=hy_common_counts)\n",
    "plt.title('Most Common Words used in Reviews of Hygienic Resturant')\n",
    "plt.show()"
   ]
  },
  {
   "cell_type": "code",
   "execution_count": 219,
   "metadata": {},
   "outputs": [
    {
     "name": "stdout",
     "output_type": "stream",
     "text": [
      "Processed 10 out of 1305 documents.\n",
      "Processed 20 out of 1305 documents.\n",
      "Processed 30 out of 1305 documents.\n",
      "Processed 40 out of 1305 documents.\n",
      "Processed 50 out of 1305 documents.\n",
      "Processed 60 out of 1305 documents.\n",
      "Processed 70 out of 1305 documents.\n",
      "Processed 80 out of 1305 documents.\n",
      "Processed 90 out of 1305 documents.\n",
      "Processed 100 out of 1305 documents.\n",
      "Processed 110 out of 1305 documents.\n",
      "Processed 120 out of 1305 documents.\n",
      "Processed 130 out of 1305 documents.\n",
      "Processed 140 out of 1305 documents.\n",
      "Processed 150 out of 1305 documents.\n",
      "Processed 160 out of 1305 documents.\n",
      "Processed 170 out of 1305 documents.\n",
      "Processed 180 out of 1305 documents.\n",
      "Processed 190 out of 1305 documents.\n",
      "Processed 200 out of 1305 documents.\n",
      "Processed 210 out of 1305 documents.\n",
      "Processed 220 out of 1305 documents.\n",
      "Processed 230 out of 1305 documents.\n",
      "Processed 240 out of 1305 documents.\n",
      "Processed 250 out of 1305 documents.\n",
      "Processed 260 out of 1305 documents.\n",
      "Processed 270 out of 1305 documents.\n",
      "Processed 280 out of 1305 documents.\n",
      "Processed 290 out of 1305 documents.\n",
      "Processed 300 out of 1305 documents.\n",
      "Processed 310 out of 1305 documents.\n",
      "Processed 320 out of 1305 documents.\n",
      "Processed 330 out of 1305 documents.\n",
      "Processed 340 out of 1305 documents.\n",
      "Processed 350 out of 1305 documents.\n",
      "Processed 360 out of 1305 documents.\n",
      "Processed 370 out of 1305 documents.\n",
      "Processed 380 out of 1305 documents.\n",
      "Processed 390 out of 1305 documents.\n",
      "Processed 400 out of 1305 documents.\n",
      "Processed 410 out of 1305 documents.\n",
      "Processed 420 out of 1305 documents.\n",
      "Processed 430 out of 1305 documents.\n",
      "Processed 440 out of 1305 documents.\n",
      "Processed 450 out of 1305 documents.\n",
      "Processed 460 out of 1305 documents.\n",
      "Processed 470 out of 1305 documents.\n",
      "Processed 480 out of 1305 documents.\n",
      "Processed 490 out of 1305 documents.\n",
      "Processed 500 out of 1305 documents.\n",
      "Processed 510 out of 1305 documents.\n",
      "Processed 520 out of 1305 documents.\n",
      "Processed 530 out of 1305 documents.\n",
      "Processed 540 out of 1305 documents.\n",
      "Processed 550 out of 1305 documents.\n",
      "Processed 560 out of 1305 documents.\n",
      "Processed 570 out of 1305 documents.\n",
      "Processed 580 out of 1305 documents.\n",
      "Processed 590 out of 1305 documents.\n",
      "Processed 600 out of 1305 documents.\n",
      "Processed 610 out of 1305 documents.\n",
      "Processed 620 out of 1305 documents.\n",
      "Processed 630 out of 1305 documents.\n",
      "Processed 640 out of 1305 documents.\n",
      "Processed 650 out of 1305 documents.\n",
      "Processed 660 out of 1305 documents.\n",
      "Processed 670 out of 1305 documents.\n",
      "Processed 680 out of 1305 documents.\n",
      "Processed 690 out of 1305 documents.\n",
      "Processed 700 out of 1305 documents.\n",
      "Processed 710 out of 1305 documents.\n",
      "Processed 720 out of 1305 documents.\n",
      "Processed 730 out of 1305 documents.\n",
      "Processed 740 out of 1305 documents.\n",
      "Processed 750 out of 1305 documents.\n",
      "Processed 760 out of 1305 documents.\n",
      "Processed 770 out of 1305 documents.\n",
      "Processed 780 out of 1305 documents.\n",
      "Processed 790 out of 1305 documents.\n",
      "Processed 800 out of 1305 documents.\n",
      "Processed 810 out of 1305 documents.\n",
      "Processed 820 out of 1305 documents.\n",
      "Processed 830 out of 1305 documents.\n",
      "Processed 840 out of 1305 documents.\n",
      "Processed 850 out of 1305 documents.\n",
      "Processed 860 out of 1305 documents.\n",
      "Processed 870 out of 1305 documents.\n",
      "Processed 880 out of 1305 documents.\n",
      "Processed 890 out of 1305 documents.\n",
      "Processed 900 out of 1305 documents.\n",
      "Processed 910 out of 1305 documents.\n",
      "Processed 920 out of 1305 documents.\n",
      "Processed 930 out of 1305 documents.\n",
      "Processed 940 out of 1305 documents.\n",
      "Processed 950 out of 1305 documents.\n",
      "Processed 960 out of 1305 documents.\n",
      "Processed 970 out of 1305 documents.\n",
      "Processed 980 out of 1305 documents.\n",
      "Processed 990 out of 1305 documents.\n",
      "Processed 1000 out of 1305 documents.\n",
      "Processed 1010 out of 1305 documents.\n",
      "Processed 1020 out of 1305 documents.\n",
      "Processed 1030 out of 1305 documents.\n",
      "Processed 1040 out of 1305 documents.\n",
      "Processed 1050 out of 1305 documents.\n",
      "Processed 1060 out of 1305 documents.\n",
      "Processed 1070 out of 1305 documents.\n",
      "Processed 1080 out of 1305 documents.\n",
      "Processed 1090 out of 1305 documents.\n",
      "Processed 1100 out of 1305 documents.\n",
      "Processed 1110 out of 1305 documents.\n",
      "Processed 1120 out of 1305 documents.\n",
      "Processed 1130 out of 1305 documents.\n",
      "Processed 1140 out of 1305 documents.\n",
      "Processed 1150 out of 1305 documents.\n",
      "Processed 1160 out of 1305 documents.\n",
      "Processed 1170 out of 1305 documents.\n",
      "Processed 1180 out of 1305 documents.\n",
      "Processed 1190 out of 1305 documents.\n",
      "Processed 1200 out of 1305 documents.\n",
      "Processed 1210 out of 1305 documents.\n",
      "Processed 1220 out of 1305 documents.\n",
      "Processed 1230 out of 1305 documents.\n",
      "Processed 1240 out of 1305 documents.\n",
      "Processed 1250 out of 1305 documents.\n",
      "Processed 1260 out of 1305 documents.\n",
      "Processed 1270 out of 1305 documents.\n",
      "Processed 1280 out of 1305 documents.\n",
      "Processed 1290 out of 1305 documents.\n",
      "Processed 1300 out of 1305 documents.\n"
     ]
    }
   ],
   "source": [
    "nhy_clean = cleanup_text(nhy_text[158000:],logging=True)"
   ]
  },
  {
   "cell_type": "code",
   "execution_count": 227,
   "metadata": {},
   "outputs": [
    {
     "data": {
      "image/png": "[encoded data removed]",
      "text/plain": [
       "<matplotlib.figure.Figure at 0x1a3437c198>"
      ]
     },
     "metadata": {},
     "output_type": "display_data"
    }
   ],
   "source": [
    "nhy_clean = ' '.join(nhy_clean).split()\n",
    "nhy_counts = Counter(nhy_clean)\n",
    "nhy_common_words = [word[0] for word in nhy_counts.most_common(30)]\n",
    "nhy_common_counts = [word[1] for word in nhy_counts.most_common(30)]\n",
    "fig = plt.figure(figsize=(38,8))\n",
    "sns.barplot(x=nhy_common_words, y=nhy_common_counts)\n",
    "plt.title('Most Common Words used in Reviews of Non-Hygienic Resturant')\n",
    "plt.show()"
   ]
  },
  {
   "cell_type": "code",
   "execution_count": 216,
   "metadata": {},
   "outputs": [],
   "source": [
    "def pos_words (sentence, token, ptag):\n",
    "    '''\n",
    "    check all tags used with a word\n",
    "    '''\n",
    "    # extract all review sentences that contains the term - token\n",
    "    sentences = [sent for sent in sentence.sents if token in sent.string.lower()]\n",
    "    pwrds = []\n",
    "    for sent in sentences:\n",
    "        for word in sent:\n",
    "            if token in word.string:\n",
    "                pwrds.extend([child.string.strip() for child in word.childrenw\n",
    "                if child.pos_ == ptag])\n",
    "    return Counter(pwrds).most_common(10)"
   ]
  },
  {
   "cell_type": "code",
   "execution_count": null,
   "metadata": {},
   "outputs": [],
   "source": [
    "# Check all adj used with the term food\n",
    "pos_words(doc, 'food', 'ADJ')\n"
   ]
  },
  {
   "cell_type": "markdown",
   "metadata": {},
   "source": [
    "# Head"
   ]
  },
  {
   "cell_type": "code",
   "execution_count": null,
   "metadata": {},
   "outputs": [],
   "source": [
    "import numpy as np\n",
    "from sklearn.naive_bayes import MultinomialNB\n",
    "from sklearn.feature_extraction.text import CountVectorizer\n",
    "import pandas as pd\n",
    "from collections import Counter\n",
    "from sklearn.model_selection import train_test_split\n",
    "from sklearn.feature_extraction.text import TfidfTransformer\n",
    "\n",
    "df = pd.read_csv('wine_data.csv')\n",
    "\n",
    "counter = Counter(df['variety'].tolist())\n",
    "top_10_varieties = {i[0]: idx for idx, i in enumerate(counter.most_common(10))}\n",
    "df = df[df['variety'].map(lambda x: x in top_10_varieties)]\n",
    "\n",
    "description_list = df['description'].tolist()\n",
    "varietal_list = [top_10_varieties[i] for i in df['variety'].tolist()]\n",
    "varietal_list = np.array(varietal_list)\n",
    "\n",
    "count_vect = CountVectorizer()\n",
    "x_train_counts = count_vect.fit_transform(description_list)\n",
    "\n",
    "\n",
    "tfidf_transformer = TfidfTransformer()\n",
    "x_train_tfidf = tfidf_transformer.fit_transform(x_train_counts)\n",
    "\n",
    "train_x, test_x, train_y, test_y = train_test_split(x_train_tfidf, varietal_list, test_size=0.3)\n",
    "\n",
    "clf = MultinomialNB().fit(train_x, train_y)\n",
    "y_score = clf.predict(test_x)\n",
    "\n",
    "n_right = 0\n",
    "for i in range(len(y_score)):\n",
    "    if y_score[i] == test_y[i]:\n",
    "        n_right += 1\n",
    "\n",
    "print(\"Accuracy: %.2f%%\" % ((n_right/float(len(test_y)) * 100)))"
   ]
  }
 ],
 "metadata": {
  "kernelspec": {
   "display_name": "Python 2",
   "language": "python",
   "name": "python2"
  },
  "language_info": {
   "codemirror_mode": {
    "name": "ipython",
    "version": 3
   },
   "file_extension": ".py",
   "mimetype": "text/x-python",
   "name": "python",
   "nbconvert_exporter": "python",
   "pygments_lexer": "ipython3",
   "version": "3.6.3"
  }
 },
 "nbformat": 4,
 "nbformat_minor": 2
}
