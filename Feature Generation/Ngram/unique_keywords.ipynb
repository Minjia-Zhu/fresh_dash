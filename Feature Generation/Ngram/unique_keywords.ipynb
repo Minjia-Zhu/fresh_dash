{
 "cells": [
  {
   "cell_type": "markdown",
   "metadata": {},
   "source": [
    "## Creating different bigram feature sets from the keywords"
   ]
  },
  {
   "cell_type": "code",
   "execution_count": null,
   "metadata": {
    "collapsed": true
   },
   "outputs": [],
   "source": [
    "import pandas as pd\n",
    "from collections import Counter"
   ]
  },
  {
   "cell_type": "code",
   "execution_count": 1,
   "metadata": {
    "collapsed": true
   },
   "outputs": [],
   "source": [
    "#separated list of bigrams\n",
    "non = [('go', 'back'), ('happy', 'hour'), ('come', 'back'), ('food', 'good'), ('first', 'time'), ('pretty', 'good'), ('wait', 'minute'), ('good', 'food'), ('take', 'order'), ('good', 'thing'), ('really', 'want'), ('time', 'go'), ('last', 'time'), ('customer', 'service'), ('much', 'good'), ('good', 'service'), ('give', 'place'), ('nothing', 'special'), ('minute', 'later'), ('give', 'star'), ('really', 'good'), ('get', 'food'), ('last', 'night'), ('bad', 'service'), ('never', 'go'), ('mexican', 'food'), ('wait', 'staff'), ('next', 'time'), ('place', 'go'), ('good', 'place'), ('do', 'not'), ('take', 'minute'), ('tom', 'dougla'), ('fish', 'chip'), ('try', 'place'), ('food', 'come'), ('pretty', 'much'), ('food', 'service'), ('can', 'not'), ('crab', 'cake'), ('would', 'go'), ('minute', 'get'), ('mac', 'cheese'), ('thai', 'food'), ('drink', 'order'), ('make', 'reservation'), ('sit', 'bar'), ('long', 'time'), ('order', 'food'), ('serious', 'pie'), ('make', 'sure'), ('quality', 'food'), ('ask', 'want'), ('get', 'good'), ('taste', 'good'), ('dining', 'experience'), ('place', 'order'), ('food', 'bad'), ('get', 'order'), ('wait', 'wait'), ('year', 'ago'), ('go', 'get'), ('fry', 'rice'), ('place', 'get'), ('service', 'slow'), ('dim', 'sum'), ('order', 'drink'), ('go', 'place'), ('food', 'order'), ('great', 'food'), ('friend', 'order'), ('food', 'great'), ('somewhere', 'else'), ('walk', 'away'), ('get', 'drink'), ('red', 'mill'), ('never', 'come'), ('chinese', 'food'), ('would', 'give'), ('give', 'try'), ('want', 'go'), ('fast', 'food'), ('place', 'star'), ('time', 'get'), ('onion', 'ring'), ('love', 'place'), ('service', 'good'), ('place', 'good'), ('pad', 'thai'), ('finally', 'get'), ('good', 'part'), ('food', 'mediocre'), ('look', 'forward'), ('mediocre', 'food'), ('second', 'time'), ('think', 'would'), ('want', 'place'), ('order', 'take'), ('food', 'really'), ('credit', 'card')] + [('go', 'back'), ('come', 'back'), ('happy', 'hour'), ('food', 'good'), ('take', 'order'), ('pretty', 'good'), ('first', 'time'), ('good', 'food'), ('wait', 'minute'), ('get', 'food'), ('good', 'thing'), ('last', 'time'), ('time', 'go'), ('good', 'service'), ('customer', 'service'), ('place', 'go'), ('do', 'not'), ('minute', 'later'), ('never', 'go'), ('nothing', 'special'), ('give', 'star'), ('really', 'want'), ('much', 'good'), ('good', 'place'), ('take', 'minute'), ('last', 'night'), ('bad', 'service'), ('next', 'time'), ('give', 'place'), ('food', 'service'), ('wait', 'staff'), ('dim', 'sum'), ('food', 'come'), ('pretty', 'much'), ('long', 'time'), ('fry', 'rice'), ('really', 'good'), ('order', 'food'), ('can', 'not'), ('year', 'ago'), ('pad', 'thai'), ('thai', 'food'), ('get', 'good'), ('quality', 'food'), ('minute', 'get'), ('service', 'good'), ('try', 'place'), ('drink', 'order'), ('place', 'get'), ('time', 'get'), ('somewhere', 'else'), ('would', 'go'), ('go', 'get'), ('ask', 'want'), ('never', 'come'), ('want', 'go'), ('sit', 'bar'), ('fish', 'chip'), ('food', 'go'), ('mexican', 'food'), ('food', 'order'), ('get', 'seat'), ('wait', 'wait'), ('food', 'great'), ('get', 'drink'), ('finally', 'get'), ('indian', 'food'), ('love', 'place'), ('walk', 'away'), ('would', 'give'), ('food', 'arrive'), ('make', 'sure'), ('order', 'drink'), ('taste', 'good'), ('friend', 'order'), ('bad', 'experience'), ('good', 'part'), ('chinese', 'food'), ('get', 'order'), ('minute', 'wait'), ('place', 'order'), ('long', 'wait'), ('several', 'time'), ('food', 'really'), ('make', 'reservation'), ('credit', 'card'), ('service', 'slow'), ('order', 'take'), ('dining', 'experience'), ('bad', 'food'), ('write', 'review'), ('food', 'get'), ('french', 'toast'), ('place', 'would'), ('food', 'bad'), ('want', 'place'), ('take', 'forever'), ('onion', 'ring'), ('look', 'good'), ('place', 'star')]\n",
    "\n",
    "hyg = [('happy', 'hour'), ('go', 'back'), ('come', 'back'), ('really', 'good'), ('great', 'place'), ('love', 'place'), ('next', 'time'), ('good', 'food'), ('pretty', 'good'), ('great', 'food'), ('first', 'time'), ('food', 'good'), ('highly', 'recommend'), ('food', 'great'), ('place', 'go'), ('great', 'service'), ('service', 'great'), ('make', 'sure'), ('mac', 'cheese'), ('good', 'place'), ('pike', 'place'), ('time', 'go'), ('good', 'thing'), ('good', 'service'), ('tom', 'dougla'), ('serious', 'pie'), ('last', 'night'), ('sit', 'bar'), ('ice', 'cream'), ('make', 'reservation'), ('service', 'good'), ('wait', 'staff'), ('place', 'get'), ('can', 'not'), ('staff', 'friendly'), ('good', 'pizza'), ('place', 'great'), ('dim', 'sum'), ('pretty', 'much'), ('really', 'enjoy'), ('place', 'good'), ('would', 'definitely'), ('definitely', 'go'), ('late', 'night'), ('food', 'service'), ('make', 'feel'), ('go', 'wrong'), ('onion', 'ring'), ('give', 'star'), ('restaurant', 'seattle'), ('little', 'bit'), ('fish', 'chip'), ('visit', 'seattle'), ('crab', 'cake'), ('goat', 'cheese'), ('back', 'try'), ('long', 'time'), ('west', 'seattle'), ('want', 'try'), ('fry', 'rice'), ('last', 'time'), ('fry', 'chicken'), ('get', 'good'), ('wine', 'list'), ('food', 'delicious'), ('look', 'forward'), ('beer', 'selection'), ('favorite', 'place'), ('definitely', 'back'), ('place', 'seattle'), ('dining', 'experience'), ('really', 'nice'), ('wait', 'go'), ('mexican', 'food'), ('recommend', 'place'), ('friendly', 'staff'), ('thai', 'food'), ('always', 'good'), ('food', 'come'), ('reasonably', 'price'), ('top', 'notch'), ('love', 'love'), ('do', 'not'), ('small', 'plate'), ('super', 'friendly'), ('also', 'good'), ('good', 'time'), ('find', 'place'), ('well', 'worth'), ('capitol', 'hill'), ('great', 'atmosphere'), ('good', 'burger'), ('would', 'recommend'), ('get', 'seat'), ('friendly', 'service'), ('high', 'quality'), ('definitely', 'come'), ('french', 'toast'), ('place', 'eat'), ('delicious', 'food')] + [('happy', 'hour'), ('go', 'back'), ('really', 'good'), ('come', 'back'), ('love', 'place'), ('great', 'place'), ('good', 'food'), ('food', 'good'), ('pretty', 'good'), ('first', 'time'), ('next', 'time'), ('great', 'food'), ('highly', 'recommend'), ('food', 'great'), ('dim', 'sum'), ('place', 'go'), ('pike', 'place'), ('great', 'service'), ('service', 'great'), ('make', 'sure'), ('good', 'place'), ('mac', 'cheese'), ('good', 'service'), ('time', 'go'), ('last', 'night'), ('place', 'get'), ('good', 'thing'), ('thai', 'food'), ('ice', 'cream'), ('service', 'good'), ('late', 'night'), ('sit', 'bar'), ('place', 'great'), ('make', 'reservation'), ('pretty', 'much'), ('french', 'toast'), ('wait', 'staff'), ('can', 'not'), ('staff', 'friendly'), ('definitely', 'go'), ('place', 'good'), ('back', 'try'), ('really', 'enjoy'), ('go', 'wrong'), ('give', 'star'), ('restaurant', 'seattle'), ('clam', 'chowd'), ('love', 'love'), ('little', 'bit'), ('get', 'good'), ('food', 'service'), ('would', 'definitely'), ('favorite', 'place'), ('long', 'time'), ('pad', 'thai'), ('look', 'forward'), ('spring', 'roll'), ('noodle', 'soup'), ('definitely', 'back'), ('also', 'good'), ('place', 'seattle'), ('make', 'feel'), ('really', 'nice'), ('good', 'time'), ('food', 'delicious'), ('last', 'time'), ('well', 'worth'), ('small', 'plate'), ('fry', 'rice'), ('visit', 'seattle'), ('bbq', 'pork'), ('capitol', 'hill'), ('friendly', 'service'), ('always', 'get'), ('reasonably', 'price'), ('fry', 'chicken'), ('place', 'market'), ('hour', 'menu'), ('want', 'try'), ('onion', 'ring'), ('service', 'friendly'), ('try', 'place'), ('dining', 'experience'), ('food', 'drink'), ('do', 'not'), ('saturday', 'night'), ('food', 'come'), ('wine', 'list'), ('mexican', 'food'), ('always', 'good'), ('place', 'eat'), ('recommend', 'place'), ('clam', 'chowder'), ('hole', 'wall'), ('definitely', 'come'), ('fish', 'chip'), ('get', 'seat'), ('delicious', 'food'), ('good', 'price'), ('wait', 'go')]"
   ]
  },
  {
   "cell_type": "code",
   "execution_count": 38,
   "metadata": {},
   "outputs": [
    {
     "data": {
      "text/plain": [
       "(7703, 186)"
      ]
     },
     "execution_count": 38,
     "metadata": {},
     "output_type": "execute_result"
    }
   ],
   "source": [
    "# Getting all keyword count csv\n",
    "all_key = pd.read_csv(\"allkeywords.csv\", header=[0,1])\n",
    "all_key.columns = all_key.columns.values\n",
    "all_key.shape"
   ]
  },
  {
   "cell_type": "code",
   "execution_count": 36,
   "metadata": {
    "collapsed": true
   },
   "outputs": [],
   "source": [
    "non_hyg = Counter(non) - Counter(hyg)\n",
    "hyg_only =  Counter(hyg) - Counter(non)"
   ]
  },
  {
   "cell_type": "code",
   "execution_count": 37,
   "metadata": {
    "collapsed": true
   },
   "outputs": [],
   "source": [
    "useful_keys_unique = list(non_hyg.keys()) + [('inspection_id', 'Unnamed: 90_level_1')] + list(hyg_only.keys())\n",
    "\n",
    "useful_keys_unhygiene = list(non_hyg.keys()) + [('inspection_id', 'Unnamed: 90_level_1')]"
   ]
  },
  {
   "cell_type": "code",
   "execution_count": 41,
   "metadata": {},
   "outputs": [
    {
     "data": {
      "text/plain": [
       "(7703, 139)"
      ]
     },
     "execution_count": 41,
     "metadata": {},
     "output_type": "execute_result"
    }
   ],
   "source": [
    "only_unique = all_key[useful_keys].fillna(0)\n",
    "only_unique.rename(index=str, columns={('inspection_id', 'Unnamed: 90_level_1'): \"inspection_id\"}, inplace=True)\n",
    "only_unique.shape"
   ]
  },
  {
   "cell_type": "code",
   "execution_count": 44,
   "metadata": {
    "collapsed": true
   },
   "outputs": [],
   "source": [
    "only_unique.to_csv(\"only_unique.csv\")"
   ]
  },
  {
   "cell_type": "code",
   "execution_count": 43,
   "metadata": {},
   "outputs": [
    {
     "data": {
      "text/plain": [
       "139"
      ]
     },
     "execution_count": 43,
     "metadata": {},
     "output_type": "execute_result"
    }
   ],
   "source": [
    "len(set(useful_keys))"
   ]
  },
  {
   "cell_type": "code",
   "execution_count": null,
   "metadata": {
    "collapsed": true
   },
   "outputs": [],
   "source": []
  }
 ],
 "metadata": {
  "kernelspec": {
   "display_name": "Python 3",
   "language": "python",
   "name": "python3"
  },
  "language_info": {
   "codemirror_mode": {
    "name": "ipython",
    "version": 3
   },
   "file_extension": ".py",
   "mimetype": "text/x-python",
   "name": "python",
   "nbconvert_exporter": "python",
   "pygments_lexer": "ipython3",
   "version": "3.6.3"
  }
 },
 "nbformat": 4,
 "nbformat_minor": 2
}
