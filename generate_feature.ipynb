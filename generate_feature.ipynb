{
 "cells": [
  {
   "cell_type": "code",
   "execution_count": 1,
   "metadata": {},
   "outputs": [],
   "source": [
    "import pandas as pd\n",
    "import numpy as np\n",
    "import seaborn as sns\n",
    "import matplotlib.pyplot as plt\n",
    "import base64\n",
    "import string\n",
    "import re\n",
    "import os\n",
    "import csv\n",
    "import sys\n",
    "from collections import Counter\n",
    "from nltk.corpus import stopwords\n",
    "from sklearn.model_selection import train_test_split\n",
    "csv.field_size_limit(sys.maxsize)\n",
    "os.chdir('../Data/Seattle/')"
   ]
  },
  {
   "cell_type": "code",
   "execution_count": 2,
   "metadata": {},
   "outputs": [],
   "source": [
    "df = pd.read_csv('individual_review_inspection_merged.csv', sep=None,engine='python')"
   ]
  },
  {
   "cell_type": "code",
   "execution_count": 5,
   "metadata": {},
   "outputs": [],
   "source": [
    "# df = df_output.sample(frac=0.3)\n",
    "# Create a prediction label with threshold of 40\n",
    "df['label'] = np.where(df['inspection_penalty_score']>=40, 1, 0)\n",
    "df2 = df[['content','label']]"
   ]
  },
  {
   "cell_type": "code",
   "execution_count": 108,
   "metadata": {},
   "outputs": [
    {
     "data": {
      "image/png": "[encoded data removed]",
      "text/plain": [
       "<matplotlib.figure.Figure at 0x1a22f6f4e0>"
      ]
     },
     "metadata": {},
     "output_type": "display_data"
    }
   ],
   "source": [
    "train, test = train_test_split(df2, test_size=0, random_state=42)\n",
    "fig = plt.figure(figsize=(8,4))\n",
    "sns.barplot(x = train['label'].unique(), y=train['label'].value_counts())\n",
    "plt.show()"
   ]
  },
  {
   "cell_type": "code",
   "execution_count": 109,
   "metadata": {},
   "outputs": [],
   "source": [
    "hy_text = [text for text in train[train['label'] == 1]['content']]\n",
    "nhy_text = [text for text in train[train['label'] == 0]['content']]"
   ]
  },
  {
   "cell_type": "code",
   "execution_count": 110,
   "metadata": {},
   "outputs": [
    {
     "name": "stdout",
     "output_type": "stream",
     "text": [
      "12012\n",
      "150298\n"
     ]
    }
   ],
   "source": [
    "print(len(hy_text))\n",
    "print(len(nhy_text))"
   ]
  },
  {
   "cell_type": "code",
   "execution_count": 111,
   "metadata": {},
   "outputs": [],
   "source": [
    "import spacy\n",
    "nlp = spacy.load('en')\n",
    "# https://www.clips.uantwerpen.be/pages/mbsp-tags\n",
    "noisy_pos_tags = ['PROP','DT','IN','PUNCT','SYM','NUM','CC','CD','POS','EX']\n",
    "min_token_length = 2"
   ]
  },
  {
   "cell_type": "code",
   "execution_count": 114,
   "metadata": {},
   "outputs": [],
   "source": [
    "def isNoise(token):\n",
    "    '''\n",
    "    Check if the token is a noise or not\n",
    "    '''\n",
    "    is_noise = False\n",
    "    if token.pos_ in noisy_pos_tags: # check for pre-defineed noisy tag\n",
    "        is_noise = True\n",
    "    elif token.is_stop == True: # check for stop words\n",
    "        is_noise = True\n",
    "    elif len(token.string) <= min_token_length:\n",
    "        is_noise = True\n",
    "    elif token.lemma_ == \"-PRON-\":\n",
    "        is_noise = True\n",
    "    return is_noise\n",
    "\n",
    "def cleanup_text(reviews, logging=False):\n",
    "    cleaned = []\n",
    "    n = 1\n",
    "    for review in reviews:\n",
    "        review = nlp(review)\n",
    "        if n % 100 == 0 and logging:\n",
    "            print(\"Processed %d out of %d documents.\" % (n, len(reviews)))\n",
    "        n += 1\n",
    "        for token in review:\n",
    "            tokens = [token.lemma_.lower().strip() for token in review if not isNoise(token)]\n",
    "        tokens = ' '.join(tokens)\n",
    "        cleaned.append(tokens)\n",
    "    return pd.Series(cleaned)"
   ]
  },
  {
   "cell_type": "code",
   "execution_count": null,
   "metadata": {},
   "outputs": [
    {
     "name": "stdout",
     "output_type": "stream",
     "text": [
      "Processed 100 out of 12012 documents.\n",
      "Processed 200 out of 12012 documents.\n",
      "Processed 300 out of 12012 documents.\n",
      "Processed 400 out of 12012 documents.\n",
      "Processed 500 out of 12012 documents.\n",
      "Processed 600 out of 12012 documents.\n",
      "Processed 700 out of 12012 documents.\n",
      "Processed 800 out of 12012 documents.\n",
      "Processed 900 out of 12012 documents.\n",
      "Processed 1000 out of 12012 documents.\n",
      "Processed 1100 out of 12012 documents.\n",
      "Processed 1200 out of 12012 documents.\n",
      "Processed 1300 out of 12012 documents.\n",
      "Processed 1400 out of 12012 documents.\n",
      "Processed 1500 out of 12012 documents.\n",
      "Processed 1600 out of 12012 documents.\n",
      "Processed 1700 out of 12012 documents.\n",
      "Processed 1800 out of 12012 documents.\n",
      "Processed 1900 out of 12012 documents.\n",
      "Processed 2000 out of 12012 documents.\n",
      "Processed 2100 out of 12012 documents.\n",
      "Processed 2200 out of 12012 documents.\n",
      "Processed 2300 out of 12012 documents.\n",
      "Processed 2400 out of 12012 documents.\n",
      "Processed 2500 out of 12012 documents.\n",
      "Processed 2600 out of 12012 documents.\n",
      "Processed 2700 out of 12012 documents.\n",
      "Processed 2800 out of 12012 documents.\n",
      "Processed 2900 out of 12012 documents.\n",
      "Processed 3000 out of 12012 documents.\n",
      "Processed 3100 out of 12012 documents.\n",
      "Processed 3200 out of 12012 documents.\n",
      "Processed 3300 out of 12012 documents.\n",
      "Processed 3400 out of 12012 documents.\n",
      "Processed 3500 out of 12012 documents.\n",
      "Processed 3600 out of 12012 documents.\n",
      "Processed 3700 out of 12012 documents.\n",
      "Processed 3800 out of 12012 documents.\n",
      "Processed 3900 out of 12012 documents.\n",
      "Processed 4000 out of 12012 documents.\n",
      "Processed 4100 out of 12012 documents.\n"
     ]
    }
   ],
   "source": [
    "hy_clean = cleanup_text(hy_text,logging=True)\n",
    "nhy_clean = cleanup_text(nhy_text,logging=True)"
   ]
  },
  {
   "cell_type": "code",
   "execution_count": null,
   "metadata": {},
   "outputs": [],
   "source": [
    "hy_clean = ' '.join(hy_clean).split()\n",
    "nhy_clean = ' '.join(nhy_clean).split()"
   ]
  },
  {
   "cell_type": "code",
   "execution_count": null,
   "metadata": {},
   "outputs": [],
   "source": [
    "hy_counts = Counter(hy_clean)\n",
    "nhy_counts = Counter(nhy_clean)"
   ]
  },
  {
   "cell_type": "code",
   "execution_count": null,
   "metadata": {},
   "outputs": [],
   "source": [
    "hy_common_words = [word[0] for word in hy_counts.most_common(20)]\n",
    "hy_common_counts = [word[1] for word in hy_counts.most_common(20)]\n",
    "\n",
    "nhy_common_words = [word[0] for word in nhy_counts.most_common(20)]\n",
    "nhy_common_counts = [word[1] for word in nhy_counts.most_common(20)]"
   ]
  },
  {
   "cell_type": "code",
   "execution_count": null,
   "metadata": {},
   "outputs": [],
   "source": [
    "fig = plt.figure(figsize=(18,6))\n",
    "sns.barplot(x=hy_common_words, y=hy_common_counts)\n",
    "plt.title('Most Common Words used in Reviews of Hygienic Resturant')\n",
    "plt.show()"
   ]
  },
  {
   "cell_type": "code",
   "execution_count": null,
   "metadata": {},
   "outputs": [],
   "source": [
    "fig = plt.figure(figsize=(18,6))\n",
    "sns.barplot(x=nhy_common_words, y=nhy_common_counts)\n",
    "plt.title('Most Common Words used in Reviews of Non-Hygienic Resturant')\n",
    "plt.show()"
   ]
  },
  {
   "cell_type": "code",
   "execution_count": null,
   "metadata": {},
   "outputs": [],
   "source": [
    "def pos_words (sentence, token, ptag):\n",
    "    '''\n",
    "    check all tags used with a word\n",
    "    '''\n",
    "    # extract all review sentences that contains the term - token\n",
    "    sentences = [sent for sent in sentence.sents if token in sent.string.lower()]\n",
    "    pwrds = []\n",
    "    for sent in sentences:\n",
    "        for word in sent:\n",
    "            if token in word.string:\n",
    "                pwrds.extend([child.string.strip() for child in word.children\n",
    "                if child.pos_ == ptag])\n",
    "    return Counter(pwrds).most_common(10)"
   ]
  },
  {
   "cell_type": "code",
   "execution_count": null,
   "metadata": {},
   "outputs": [],
   "source": [
    "# Check all adj used with the term food\n",
    "pos_words(doc, 'food', 'ADJ')\n"
   ]
  }
 ],
 "metadata": {
  "kernelspec": {
   "display_name": "Python 2",
   "language": "python",
   "name": "python2"
  },
  "language_info": {
   "codemirror_mode": {
    "name": "ipython",
    "version": 3
   },
   "file_extension": ".py",
   "mimetype": "text/x-python",
   "name": "python",
   "nbconvert_exporter": "python",
   "pygments_lexer": "ipython3",
   "version": "3.6.3"
  }
 },
 "nbformat": 4,
 "nbformat_minor": 2
}
